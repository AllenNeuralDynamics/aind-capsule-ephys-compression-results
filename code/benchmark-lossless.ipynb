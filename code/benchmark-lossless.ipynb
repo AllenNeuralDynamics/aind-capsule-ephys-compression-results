{
 "cells": [
  {
   "cell_type": "markdown",
   "id": "476a16e6",
   "metadata": {},
   "source": [
    "# Lossless compression\n",
    "\n",
    "This notebook reproduces the results of the `Lossless compression` results in the paper.\n",
    "\n",
    "We assumes the `ephys-compression/scripts/benchmark-lossless.py` has been run and the `../data/results-lossless/benchmark-lossless.csv\"` is available."
   ]
  },
  {
   "cell_type": "code",
   "execution_count": null,
   "id": "cc97da1c",
   "metadata": {},
   "outputs": [],
   "source": [
    "import numpy as np\n",
    "from pathlib import Path\n",
    "import matplotlib.pyplot as plt\n",
    "\n",
    "import pandas as pd\n",
    "import seaborn as sns\n",
    "\n",
    "from utils import prettify_axes, stat_test\n",
    "\n",
    "%matplotlib inline"
   ]
  },
  {
   "cell_type": "code",
   "execution_count": null,
   "id": "fdd335aa",
   "metadata": {},
   "outputs": [],
   "source": [
    "figsize_rect = (10,5)\n",
    "figsize_square = (10, 10)"
   ]
  },
  {
   "cell_type": "code",
   "execution_count": null,
   "id": "5155da7e",
   "metadata": {},
   "outputs": [],
   "source": [
    "data_folder = Path(\"../data\")\n",
    "results_folder = Path(\"../results\")\n",
    "\n",
    "save_fig = True\n",
    "fig_folder = results_folder / \"figures\" / \"lossless\"\n",
    "fig_folder.mkdir(exist_ok=True, parents=True)\n",
    "\n",
    "results_lossless_folder = data_folder / \"results-lossless\""
   ]
  },
  {
   "cell_type": "code",
   "execution_count": null,
   "id": "95d54b34",
   "metadata": {},
   "outputs": [],
   "source": [
    "res = pd.read_csv(results_lossless_folder / \"benchmark-lossless.csv\", index_col=False)"
   ]
  },
  {
   "cell_type": "code",
   "execution_count": null,
   "id": "24a496a2",
   "metadata": {},
   "outputs": [],
   "source": [
    "probe_names = {\"Neuropixels1.0\": \"NP1\",\n",
    "               \"Neuropixels2.0\": \"NP2\"}\n",
    "for probe, probe_name in probe_names.items():\n",
    "    res.loc[res.query(f\"probe == '{probe}'\").index, \"probe\"] = probe_name\n",
    "probes = np.unique(res.probe)"
   ]
  },
  {
   "cell_type": "code",
   "execution_count": null,
   "id": "e32e7c4d",
   "metadata": {},
   "outputs": [],
   "source": [
    "res.head()"
   ]
  },
  {
   "cell_type": "code",
   "execution_count": null,
   "id": "df04069c",
   "metadata": {},
   "outputs": [],
   "source": [
    "# color palette\n",
    "cmap = plt.get_cmap(\"Paired\")\n",
    "palette = {}\n",
    "ctypes = [\"blosc\", \"numcodecs\", \"audio\"]\n",
    "num_compressors = len(np.unique(res.compressor))\n",
    "i = 0\n",
    "for ctype in ctypes:\n",
    "    res_ctype = res.query(f\"compressor_type == '{ctype}'\")\n",
    "    for comp in np.unique(res_ctype.sort_values(\"compressor\").compressor):\n",
    "        palette[comp]  = cmap(i / num_compressors)\n",
    "        i += 1"
   ]
  },
  {
   "cell_type": "markdown",
   "id": "8fafc320",
   "metadata": {},
   "source": [
    "# LSB correction drastically increases compression performance\n",
    "\n",
    "As mentioned in the Experimental data section, the Neuropixels data recorded by `Open Ephys` (in our case from the `AIND` data source) do not have a unitary LSB (12 for NP1, 3 for NP2). In principle, dividing the samples by the LSB value would reduce the data range (and possibly improve compression) without affecting the data integrity. We denote this process as *LSB correction*. In Figure 1 we display the distribution of all compression metrics without (light blue) and with (dark blue) LSB correction. Note that in this case the distributions contain data points from both NP1 and NP2 probes (1800 NP1 - 3600 NP2 observations). Compression ratio (panel A) is significantly higher after LSB correction with a large effect size (p-value<1e-10, effect size=1). Compression speed, instead, slightly decreases, likely due to the additional computational load of the LSB correction itself (panel B) (p-value<1e-4, effect size=0.14), while a minor increas in decompression speed is observed (p-value<1e-8, effect size=0.2). Due to the large improvement in compression ratio, we continued the analysis with LSB correction and we advice users to do so as well when using \\openephys recordings (see the Software Extension section).\n"
   ]
  },
  {
   "cell_type": "code",
   "execution_count": null,
   "id": "2502436d",
   "metadata": {},
   "outputs": [],
   "source": [
    "res_aind = res.query(\"lsb != 'none'\")"
   ]
  },
  {
   "cell_type": "markdown",
   "id": "429baceb",
   "metadata": {},
   "source": [
    "### Figure 1"
   ]
  },
  {
   "cell_type": "code",
   "execution_count": null,
   "id": "8406577c",
   "metadata": {
    "scrolled": false
   },
   "outputs": [],
   "source": [
    "fig_lsb_all, axs = plt.subplots(ncols=3, figsize=figsize_rect)\n",
    "\n",
    "color = \"Blues\"\n",
    "\n",
    "sns.boxenplot(data=res_aind, x=\"lsb\", y=\"CR\", ax=axs[0], palette=color)\n",
    "sns.boxenplot(data=res_aind, x=\"lsb\", y=\"cspeed_xrt\", ax=axs[1], palette=color)\n",
    "sns.boxenplot(data=res_aind, x=\"lsb\", y=\"dspeed10s_xrt\", ax=axs[2], palette=color)\n",
    "\n",
    "axs[0].set_xlabel(\"\")\n",
    "axs[2].set_xlabel(\"\")\n",
    "axs[1].set_xlabel(\"LSB correction\")\n",
    "\n",
    "axs[0].set_xticklabels([\"off\", \"on\"])\n",
    "axs[1].set_xticklabels([\"off\", \"on\"])\n",
    "axs[2].set_xticklabels([\"off\", \"on\"])\n",
    "\n",
    "axs[0].set_ylabel(\"Compression Ratio\")\n",
    "axs[1].set_ylabel(\"Compression speed (xRT)\")\n",
    "axs[2].set_ylabel(\"Decompression speed (xRT)\")\n",
    "\n",
    "fig_lsb_all.subplots_adjust(wspace=0.5)\n",
    "prettify_axes(axs)"
   ]
  },
  {
   "cell_type": "code",
   "execution_count": null,
   "id": "f21dd4ee",
   "metadata": {},
   "outputs": [],
   "source": [
    "test_columns=[\"CR\", \"cspeed_xrt\", \"dspeed10s_xrt\"]\n",
    "rest_lsb = stat_test(res_aind, column_group_by=\"lsb\", \n",
    "                     test_columns=test_columns, verbose=True)"
   ]
  },
  {
   "cell_type": "code",
   "execution_count": null,
   "id": "73804827",
   "metadata": {},
   "outputs": [],
   "source": [
    "if save_fig:\n",
    "    fig_lsb_all.savefig(fig_folder / \"lsb_corr.pdf\")"
   ]
  },
  {
   "cell_type": "code",
   "execution_count": null,
   "id": "a07fef8c",
   "metadata": {},
   "outputs": [],
   "source": [
    "# select \n",
    "res_lsb = res.query(\"lsb != 'false'\")\n",
    "print(len(res_lsb))"
   ]
  },
  {
   "cell_type": "markdown",
   "id": "2c14a988",
   "metadata": {},
   "source": [
    "# Chunk size does not affect compression\n",
    "\n",
    "The first compression parameter that we analyze is the chunk duration, i.e., the size of each block in time.  Figure 2 displays the distribution of compression ratios (A), compression speeds (B), and decompression speed (C) for different the three different chunk durations: 0.1 s, 1 s, and 10 s. We found no significant differences in compression ratio and decompression speeds, while compression speed resulted to be significantly higher for chunks of 1~s (p-values: 0.1*vs*1<1e-10; 1*vs*10<1e-7), but with small effect sizes (effect sizes: 0.1*vs*1=0.28; 1*vs*10=0.19). Given this minor, but significant increase in compression speed and provided that 1 s chunk sizes are commonly used for parallel processing (e.g., default in `SpikeInterface`), we restricted further analysis to chunk durations of 1 s(1200 data points)."
   ]
  },
  {
   "cell_type": "markdown",
   "id": "c59f981f",
   "metadata": {},
   "source": [
    "### Figure 2"
   ]
  },
  {
   "cell_type": "code",
   "execution_count": null,
   "id": "e47d843f",
   "metadata": {},
   "outputs": [],
   "source": [
    "fig_ch, axs = plt.subplots(ncols=3, nrows=1, figsize=figsize_rect)\n",
    "\n",
    "color = \"Oranges\"\n",
    "\n",
    "chunk_order = [\"0.1s\", \"1s\", \"10s\"]\n",
    "\n",
    "sns.boxenplot(data=res_lsb, x=\"chunk_duration\", y=\"CR\", ax=axs[0], palette=color,\n",
    "              order=chunk_order)\n",
    "sns.boxenplot(data=res_lsb, x=\"chunk_duration\", y=\"cspeed_xrt\", ax=axs[1], palette=color,\n",
    "              order=chunk_order)\n",
    "sns.boxenplot(data=res_lsb, x=\"chunk_duration\", y=\"dspeed10s_xrt\", ax=axs[2], palette=color,\n",
    "              order=chunk_order)\n",
    "\n",
    "axs[0].set_xlabel(\"\")\n",
    "axs[1].set_xlabel(\"Chunk duration (s)\")\n",
    "axs[2].set_xlabel(\"\")\n",
    "\n",
    "axs[0].set_xticklabels([\"0.1\", \"1\", \"10\"])\n",
    "axs[1].set_xticklabels([\"0.1\", \"1\", \"10\"])\n",
    "axs[2].set_xticklabels([\"0.1\", \"1\", \"10\"])\n",
    "\n",
    "axs[0].set_ylabel(\"Compression Ratio\")\n",
    "axs[1].set_ylabel(\"Compression speed (xRT)\")\n",
    "axs[2].set_ylabel(\"Decompression speed (xRT)\")\n",
    "\n",
    "fig_ch.subplots_adjust(wspace=0.5)\n",
    "prettify_axes(axs)"
   ]
  },
  {
   "cell_type": "code",
   "execution_count": null,
   "id": "bff66f8f",
   "metadata": {
    "scrolled": false
   },
   "outputs": [],
   "source": [
    "rest_chunk = stat_test(res_lsb, column_group_by=\"chunk_duration\", \n",
    "                       test_columns=test_columns, verbose=True)"
   ]
  },
  {
   "cell_type": "code",
   "execution_count": null,
   "id": "bb0d736f",
   "metadata": {},
   "outputs": [],
   "source": [
    "if save_fig:\n",
    "    fig_ch.savefig(fig_folder / \"chunk_duration.pdf\")"
   ]
  },
  {
   "cell_type": "code",
   "execution_count": null,
   "id": "bec48443",
   "metadata": {},
   "outputs": [],
   "source": [
    "res_chunk = res_lsb.query(\"chunk_duration == '1s'\")"
   ]
  },
  {
   "cell_type": "markdown",
   "id": "6a0af513",
   "metadata": {},
   "source": [
    "## Differences between Neuropixels 1.0 and 2.0 probes\n",
    "\n",
    "As mentioned in the Methods section, NP1 and NP2 acquisition systems differ in the ADC depth (10 for NP1, 14 for NP2) and in the acquired signals, which are split in *ap* and *lf* bands in NP1, while they are wide-band for NP2. These key differences are likely to results in different compressibility between the two data sources.\n",
    "Figure 3 shows the three compression metrics for the two probes. While there are no significant differences in compression and decompression speeds, compression ratio is significantly higher for NP1 probes with respect to NP2 (p-value<1e-10 - effect size: 0.77), confirming the higher compressibility of NP1 probes, with their reduced frequency band and lower ADC depth (see Table 1). In the following sections, we therefore analyze the results from the two probes separately."
   ]
  },
  {
   "cell_type": "markdown",
   "id": "05f4266f",
   "metadata": {},
   "source": [
    "### Figure 3"
   ]
  },
  {
   "cell_type": "code",
   "execution_count": null,
   "id": "2adb5360",
   "metadata": {},
   "outputs": [],
   "source": [
    "fig_probes, axs = plt.subplots(ncols=3, nrows=1, figsize=figsize_rect)\n",
    "probe_order = [\"NP1\", \"NP2\"]\n",
    "\n",
    "color = \"Purples\"\n",
    "\n",
    "sns.boxenplot(data=res_chunk, x=\"probe\", y=\"CR\", ax=axs[0], palette=color,\n",
    "              order=probe_order)\n",
    "sns.boxenplot(data=res_chunk, x=\"probe\", y=\"cspeed_xrt\", ax=axs[1], palette=color,\n",
    "              order=probe_order)\n",
    "sns.boxenplot(data=res_chunk, x=\"probe\", y=\"dspeed10s_xrt\", ax=axs[2], palette=color,\n",
    "              order=probe_order)\n",
    "\n",
    "axs[0].set_xlabel(\"\")\n",
    "axs[1].set_xlabel(\"Probe type\")\n",
    "axs[2].set_xlabel(\"\")\n",
    "\n",
    "axs[0].set_xticklabels([\"NP1\", \"NP2\"])\n",
    "axs[1].set_xticklabels([\"NP1\", \"NP2\"])\n",
    "axs[2].set_xticklabels([\"NP1\", \"NP2\"])\n",
    "\n",
    "axs[0].set_ylabel(\"Compression Ratio\")\n",
    "axs[1].set_ylabel(\"Compression speed (xRT)\")\n",
    "axs[2].set_ylabel(\"Decompression speed (xRT)\")\n",
    "\n",
    "fig_probes.subplots_adjust(wspace=0.5)\n",
    "prettify_axes(axs)"
   ]
  },
  {
   "cell_type": "code",
   "execution_count": null,
   "id": "f5651d20",
   "metadata": {},
   "outputs": [],
   "source": [
    "if save_fig:\n",
    "    fig_probes.savefig(fig_folder / \"probes.pdf\")"
   ]
  },
  {
   "cell_type": "code",
   "execution_count": null,
   "id": "a5a7e98a",
   "metadata": {},
   "outputs": [],
   "source": [
    "rest_probe = stat_test(res_chunk, column_group_by=\"probe\", \n",
    "                       test_columns=test_columns, verbose=True)"
   ]
  },
  {
   "cell_type": "markdown",
   "id": "74145802",
   "metadata": {},
   "source": [
    "## Audio codecs achieve better compression ratio than general compressors \n",
    "\n",
    "We start by comparing compression options readily available via the Blosc meta-compressor in ZARR"
   ]
  },
  {
   "cell_type": "markdown",
   "id": "03b78dc6",
   "metadata": {},
   "source": [
    "### What is the best built-in best option?"
   ]
  },
  {
   "cell_type": "code",
   "execution_count": null,
   "id": "71ec46b2",
   "metadata": {},
   "outputs": [],
   "source": [
    "res_zarr = res_chunk.query(f\"compressor_type != 'audio'\")"
   ]
  },
  {
   "cell_type": "code",
   "execution_count": null,
   "id": "daa616f8",
   "metadata": {},
   "outputs": [],
   "source": [
    "res_zarr_np1 = res_zarr.query(\"probe == 'NP1'\")\n",
    "res_zarr_np2 = res_zarr.query(\"probe == 'NP2'\")"
   ]
  },
  {
   "cell_type": "code",
   "execution_count": null,
   "id": "1cdf33e6",
   "metadata": {
    "scrolled": false
   },
   "outputs": [],
   "source": [
    "fig_zarr_np1, axs = plt.subplots(ncols=3, nrows=1, figsize=figsize_rect)\n",
    "\n",
    "sns.boxenplot(data=res_zarr_np1, x=\"compressor\", y=\"CR\", ax=axs[0], palette=palette)\n",
    "sns.boxenplot(data=res_zarr_np1, x=\"compressor\", y=\"cspeed_xrt\", ax=axs[1], palette=palette)\n",
    "sns.boxenplot(data=res_zarr_np1, x=\"compressor\", y=\"dspeed10s_xrt\", ax=axs[2], palette=palette)\n",
    "\n",
    "axs[0].set_xlabel(\"\")\n",
    "axs[1].set_xlabel(\"\")\n",
    "axs[2].set_xlabel(\"\")\n",
    "\n",
    "axs[0].set_ylabel(\"Compression Ratio\")\n",
    "axs[1].set_ylabel(\"Compression speed (xRT)\")\n",
    "axs[2].set_ylabel(\"Decompression speed (xRT)\")\n",
    "\n",
    "axs[0].set_xticklabels(axs[0].get_xticklabels(), rotation=90)\n",
    "axs[1].set_xticklabels(axs[1].get_xticklabels(), rotation=90)\n",
    "axs[2].set_xticklabels(axs[2].get_xticklabels(), rotation=90)\n",
    "\n",
    "fig_zarr_np1.subplots_adjust(wspace=0.5, bottom=0.2)\n",
    "fig_zarr_np1.suptitle(\"NP1\", fontsize=20)\n",
    "prettify_axes(axs)\n",
    "\n",
    "fig_zarr_np2, axs = plt.subplots(ncols=3, nrows=1, figsize=figsize_rect)\n",
    "\n",
    "sns.boxenplot(data=res_zarr_np2, x=\"compressor\", y=\"CR\", ax=axs[0], palette=palette)\n",
    "sns.boxenplot(data=res_zarr_np2, x=\"compressor\", y=\"cspeed_xrt\", ax=axs[1], palette=palette)\n",
    "sns.boxenplot(data=res_zarr_np2, x=\"compressor\", y=\"dspeed10s_xrt\", ax=axs[2], palette=palette)\n",
    "\n",
    "axs[0].set_xlabel(\"\")\n",
    "axs[1].set_xlabel(\"Compressor\")\n",
    "axs[2].set_xlabel(\"\")\n",
    "\n",
    "axs[0].set_ylabel(\"Compression Ratio\")\n",
    "axs[1].set_ylabel(\"Compression speed (xRT)\")\n",
    "axs[2].set_ylabel(\"Decompression speed (xRT)\")\n",
    "\n",
    "axs[0].set_xticklabels(axs[0].get_xticklabels(), rotation=90)\n",
    "axs[1].set_xticklabels(axs[1].get_xticklabels(), rotation=90)\n",
    "axs[2].set_xticklabels(axs[2].get_xticklabels(), rotation=90)\n",
    "\n",
    "fig_zarr_np2.subplots_adjust(wspace=0.5, bottom=0.25)\n",
    "fig_zarr_np2.suptitle(\"NP2\", fontsize=20)\n",
    "prettify_axes(axs)\n"
   ]
  },
  {
   "cell_type": "code",
   "execution_count": null,
   "id": "83d17d62",
   "metadata": {},
   "outputs": [],
   "source": [
    "print(\"NP1\")\n",
    "res_np1_gb_comp = res_zarr_np1.groupby(\"compressor\")\n",
    "compressors = np.unique(res_zarr_np1.compressor)\n",
    "print(\"\\ncompression ratio\\n\")\n",
    "for compressor in compressors:\n",
    "    med = np.round(res_np1_gb_comp['CR'].median()[compressor], 2)\n",
    "    mad = np.round(res_np1_gb_comp['CR'].mad()[compressor], 2)\n",
    "    print(f\"{compressor}: {med}+-{mad}\")\n",
    "print(\"\\ncompression speed\\n\")\n",
    "for compressor in compressors:\n",
    "    med = np.round(res_np1_gb_comp['cspeed_xrt'].median()[compressor], 2)\n",
    "    mad = np.round(res_np1_gb_comp['cspeed_xrt'].mad()[compressor], 2)\n",
    "    print(f\"{compressor}: {med}+-{mad}\")\n",
    "print(\"\\ndecompression speed\\n\")\n",
    "for compressor in compressors:\n",
    "    med = np.round(res_np1_gb_comp['dspeed10s_xrt'].median()[compressor], 2)\n",
    "    mad = np.round(res_np1_gb_comp['dspeed10s_xrt'].mad()[compressor], 2)\n",
    "    print(f\"{compressor}: {med}+-{mad}\")\n",
    "    \n",
    "print(\"\\n\\nNP2\")\n",
    "res_np2_gb_comp = res_zarr_np1.groupby(\"compressor\")\n",
    "print(\"\\ncompression ratio\\n\")\n",
    "for compressor in compressors:\n",
    "    med = np.round(res_np2_gb_comp['CR'].median()[compressor], 2)\n",
    "    mad = np.round(res_np2_gb_comp['CR'].mad()[compressor], 2)\n",
    "    print(f\"{compressor}: {med}+-{mad}\")\n",
    "print(\"\\ncompression speed\\n\")\n",
    "for compressor in compressors:\n",
    "    med = np.round(res_np2_gb_comp['cspeed_xrt'].median()[compressor], 2)\n",
    "    mad = np.round(res_np2_gb_comp['cspeed_xrt'].mad()[compressor], 2)\n",
    "    print(f\"{compressor}: {med}+-{mad}\")\n",
    "print(\"\\ndecompression speed\\n\")\n",
    "for compressor in compressors:\n",
    "    med = np.round(res_np2_gb_comp['dspeed10s_xrt'].median()[compressor], 2)\n",
    "    mad = np.round(res_np2_gb_comp['dspeed10s_xrt'].mad()[compressor], 2)\n",
    "    print(f\"{compressor}: {med}+-{mad}\")"
   ]
  },
  {
   "cell_type": "code",
   "execution_count": null,
   "id": "f4558d4a",
   "metadata": {},
   "outputs": [],
   "source": [
    "if save_fig:\n",
    "    fig_zarr_np1.savefig(fig_folder / \"zarr_comp_np1.pdf\")\n",
    "    fig_zarr_np2.savefig(fig_folder / \"zarr_comp_np2.pdf\")    "
   ]
  },
  {
   "cell_type": "code",
   "execution_count": null,
   "id": "ab70a45a",
   "metadata": {
    "scrolled": false
   },
   "outputs": [],
   "source": [
    "g_blosc_np1 = sns.relplot(data=res_zarr_np1.query(\"compressor_type == 'blosc'\"), \n",
    "                          x=\"CR\", y=\"dspeed10s_xrt\", hue=\"compressor\", \n",
    "                          style=\"shuffle\", size=\"level\", size_order=[\"high\", \"medium\", \"low\"],\n",
    "                          palette=palette)\n",
    "fig_blosc_np1 = g_blosc_np1.figure\n",
    "ax = g_blosc_np1.ax\n",
    "ax.set_xlabel(\"Compression Ratio\")\n",
    "ax.set_ylabel(\"Decompression speed (xRT)\")\n",
    "prettify_axes([ax])\n",
    "\n",
    "g_blosc_np2 = sns.relplot(data=res_zarr_np2.query(\"compressor_type == 'blosc'\"), \n",
    "                          x=\"CR\", y=\"dspeed10s_xrt\", hue=\"compressor\", \n",
    "                          style=\"shuffle\", size=\"level\", size_order=[\"high\", \"medium\", \"low\"],\n",
    "                          palette=palette)\n",
    "fig_blosc_np2 = g_blosc_np2.figure\n",
    "ax = g_blosc_np2.ax\n",
    "ax.set_xlabel(\"Compression Ratio\")\n",
    "ax.set_ylabel(\"Decompression speed (xRT)\")\n",
    "prettify_axes([ax])\n",
    "\n",
    "g_nc_np1 = sns.relplot(data=res_zarr_np1.query(\"compressor_type == 'numcodecs'\"), \n",
    "                       x=\"CR\", y=\"dspeed10s_xrt\", hue=\"compressor\", \n",
    "                       style=\"shuffle\", size=\"level\", size_order=[\"high\", \"medium\", \"low\"],\n",
    "                       palette=palette)\n",
    "fig_nc_np1 = g_nc_np1.figure\n",
    "ax = g_nc_np1.ax\n",
    "ax.set_xlabel(\"Compression Ratio\")\n",
    "ax.set_ylabel(\"Decompression speed (xRT)\")\n",
    "prettify_axes([ax])\n",
    "\n",
    "g_nc_np2 = sns.relplot(data=res_zarr_np2.query(\"compressor_type == 'numcodecs'\"), \n",
    "                       x=\"CR\", y=\"dspeed10s_xrt\", hue=\"compressor\", \n",
    "                       style=\"shuffle\", size=\"level\", size_order=[\"high\", \"medium\", \"low\"],\n",
    "                       palette=palette)\n",
    "fig_nc_np2 = g_nc_np2.figure\n",
    "ax = g_nc_np2.ax\n",
    "ax.set_xlabel(\"Compression Ratio\")\n",
    "ax.set_ylabel(\"Decompression speed (xRT)\")\n",
    "prettify_axes([ax])"
   ]
  },
  {
   "cell_type": "code",
   "execution_count": null,
   "id": "70e5084d",
   "metadata": {},
   "outputs": [],
   "source": [
    "if save_fig:\n",
    "    fig_blosc_np1.savefig(fig_folder / \"rel_blosc_np1.pdf\")\n",
    "    fig_blosc_np2.savefig(fig_folder / \"rel_blosc_np2.pdf\")\n",
    "    fig_nc_np1.savefig(fig_folder / \"rel_numcodecs_np1.pdf\")\n",
    "    fig_nc_np2.savefig(fig_folder / \"rel_numcodecs_np2.pdf\")"
   ]
  },
  {
   "cell_type": "markdown",
   "id": "538ed0c9",
   "metadata": {},
   "source": [
    "### Effect of shuffling options\n",
    "\n",
    "The BLOSC meta-compressor provides two shuffling options:\n",
    "\n",
    "- byte shuffle (shuffle)\n",
    "- bit shuffle\n",
    "\n",
    "A byte shuffle is also available via the `numcodecs.Shuffle` for other non-blosc codecs."
   ]
  },
  {
   "cell_type": "code",
   "execution_count": null,
   "id": "d661de9c",
   "metadata": {
    "scrolled": false
   },
   "outputs": [],
   "source": [
    "color = \"YlGn\"\n",
    "\n",
    "fig_sh_np1, axs = plt.subplots(ncols=3, nrows=2, figsize=figsize_square)\n",
    "res_blosc = res_zarr_np1.query(\"compressor_type == 'blosc'\")\n",
    "sns.boxenplot(data=res_blosc, x=\"compressor\", y=\"CR\", hue=\"shuffle\", ax=axs[0, 0],\n",
    "              hue_order=[\"no\", \"byte\", \"bit\"], palette=color)\n",
    "sns.boxenplot(data=res_blosc, x=\"compressor\", y=\"cspeed_xrt\", hue=\"shuffle\", ax=axs[0, 1],\n",
    "              hue_order=[\"no\", \"byte\", \"bit\"], palette=color)\n",
    "sns.boxenplot(data=res_blosc, x=\"compressor\", y=\"dspeed10s_xrt\", hue=\"shuffle\", ax=axs[0, 2],\n",
    "              hue_order=[\"no\", \"byte\", \"bit\"], palette=color)\n",
    "axs[0, 0].set_xticklabels(axs[0, 0].get_xticklabels(), rotation=45)\n",
    "axs[0, 1].set_xticklabels(axs[0, 1].get_xticklabels(), rotation=45)\n",
    "axs[0, 2].set_xticklabels(axs[0, 2].get_xticklabels(), rotation=45)\n",
    "axs[0, 0].set_xlabel(\"\")\n",
    "axs[0, 1].set_xlabel(\"\")\n",
    "axs[0, 2].set_xlabel(\"\")\n",
    "axs[0, 0].set_ylabel(\"Compression Ratio\")\n",
    "axs[0, 1].set_ylabel(\"Compression speed (xRT)\")\n",
    "axs[0, 2].set_ylabel(\"Decompression speed (xRT)\")\n",
    "\n",
    "res_nc = res_zarr_np1.query(\"compressor_type == 'numcodecs'\")\n",
    "sns.boxenplot(data=res_nc, x=\"compressor\", y=\"CR\", hue=\"shuffle\", ax=axs[1, 0], palette=color)\n",
    "sns.boxenplot(data=res_nc, x=\"compressor\", y=\"cspeed_xrt\", hue=\"shuffle\", ax=axs[1, 1], palette=color)\n",
    "sns.boxenplot(data=res_nc, x=\"compressor\", y=\"dspeed10s_xrt\", hue=\"shuffle\", ax=axs[1, 2], palette=color)\n",
    "axs[1, 0].set_xticklabels(axs[1, 0].get_xticklabels(), rotation=45)\n",
    "axs[1, 1].set_xticklabels(axs[1, 1].get_xticklabels(), rotation=45)\n",
    "axs[1, 2].set_xticklabels(axs[1, 2].get_xticklabels(), rotation=45)\n",
    "axs[1, 0].set_ylabel(\"Compression Ratio\")\n",
    "axs[1, 1].set_ylabel(\"Compression speed (xRT)\")\n",
    "axs[1, 2].set_ylabel(\"Decompression speed (xRT)\")\n",
    "axs[1, 0].set_xlabel(\"\")\n",
    "axs[1, 2].set_xlabel(\"\")\n",
    "\n",
    "for ax in axs.flatten()[1:]:\n",
    "    ax.get_legend().remove()\n",
    "\n",
    "prettify_axes(axs)\n",
    "fig_sh_np1.subplots_adjust(wspace=0.3, hspace=0.3)\n",
    "fig_sh_np1.suptitle(\"NP1\", fontsize=20)\n",
    "\n",
    "\n",
    "fig_sh_np2, axs = plt.subplots(ncols=3, nrows=2, figsize=figsize_square)\n",
    "res_blosc = res_zarr_np2.query(\"compressor_type == 'blosc'\")\n",
    "sns.boxenplot(data=res_blosc, x=\"compressor\", y=\"CR\", hue=\"shuffle\", ax=axs[0, 0],\n",
    "              hue_order=[\"no\", \"byte\", \"bit\"], palette=color)\n",
    "sns.boxenplot(data=res_blosc, x=\"compressor\", y=\"cspeed_xrt\", hue=\"shuffle\", ax=axs[0, 1],\n",
    "              hue_order=[\"no\", \"byte\", \"bit\"], palette=color)\n",
    "sns.boxenplot(data=res_blosc, x=\"compressor\", y=\"dspeed10s_xrt\", hue=\"shuffle\", ax=axs[0, 2],\n",
    "              hue_order=[\"no\", \"byte\", \"bit\"], palette=color)\n",
    "axs[0, 0].set_xticklabels(axs[0, 0].get_xticklabels(), rotation=45)\n",
    "axs[0, 1].set_xticklabels(axs[0, 1].get_xticklabels(), rotation=45)\n",
    "axs[0, 2].set_xticklabels(axs[0, 2].get_xticklabels(), rotation=45)\n",
    "axs[0, 0].set_xlabel(\"\")\n",
    "axs[0, 1].set_xlabel(\"\")\n",
    "axs[0, 2].set_xlabel(\"\")\n",
    "axs[0, 0].set_ylabel(\"Compression Ratio\")\n",
    "axs[0, 1].set_ylabel(\"Compression speed (xRT)\")\n",
    "axs[0, 2].set_ylabel(\"Decompression speed (xRT)\")\n",
    "\n",
    "res_nc = res_zarr_np2.query(\"compressor_type == 'numcodecs'\")\n",
    "sns.boxenplot(data=res_nc, x=\"compressor\", y=\"CR\", hue=\"shuffle\", ax=axs[1, 0], palette=color)\n",
    "sns.boxenplot(data=res_nc, x=\"compressor\", y=\"cspeed_xrt\", hue=\"shuffle\", ax=axs[1, 1], palette=color)\n",
    "sns.boxenplot(data=res_nc, x=\"compressor\", y=\"dspeed10s_xrt\", hue=\"shuffle\", ax=axs[1, 2], palette=color)\n",
    "axs[1, 0].set_xticklabels(axs[1, 0].get_xticklabels(), rotation=45)\n",
    "axs[1, 1].set_xticklabels(axs[1, 1].get_xticklabels(), rotation=45)\n",
    "axs[1, 2].set_xticklabels(axs[1, 2].get_xticklabels(), rotation=45)\n",
    "axs[1, 0].set_ylabel(\"Compression Ratio\")\n",
    "axs[1, 1].set_ylabel(\"Compression speed (xRT)\")\n",
    "axs[1, 2].set_ylabel(\"Decompression speed (xRT)\")\n",
    "axs[1, 0].set_xlabel(\"\")\n",
    "axs[1, 2].set_xlabel(\"\")\n",
    "\n",
    "for ax in axs.flatten()[1:]:\n",
    "    ax.get_legend().remove()\n",
    "\n",
    "prettify_axes(axs)\n",
    "fig_sh_np2.subplots_adjust(wspace=0.3, hspace=0.3)\n",
    "fig_sh_np2.suptitle(\"NP2\", fontsize=20)"
   ]
  },
  {
   "cell_type": "code",
   "execution_count": null,
   "id": "caf27e99",
   "metadata": {},
   "outputs": [],
   "source": [
    "if save_fig:\n",
    "    fig_sh_np1.savefig(fig_folder / \"shuffling_np1.pdf\")    \n",
    "    fig_sh_np2.savefig(fig_folder / \"shuffling_np2.pdf\")"
   ]
  },
  {
   "cell_type": "markdown",
   "id": "c5fc58f8",
   "metadata": {},
   "source": [
    "**COMMENT**\n",
    "\n",
    "In general, pre-shuffling (byte or bit) the data improves conversion performance with respect to no pre-shuffling.\n",
    "The `BIT shuffle` available in blosc seem to be the best option, as it provides better CR, compression and decompression speed."
   ]
  },
  {
   "cell_type": "markdown",
   "id": "e10e13e4",
   "metadata": {},
   "source": [
    "Let's now confirm that the level does its job..."
   ]
  },
  {
   "cell_type": "markdown",
   "id": "428eb0ea",
   "metadata": {},
   "source": [
    "### Effect of compression level"
   ]
  },
  {
   "cell_type": "code",
   "execution_count": null,
   "id": "63622387",
   "metadata": {},
   "outputs": [],
   "source": [
    "color = 'afmhot'\n",
    "\n",
    "fig_lev_np1, axs = plt.subplots(ncols=3, nrows=1, figsize=figsize_rect)\n",
    "sns.boxenplot(data=res_zarr_np1, x=\"compressor\", y=\"CR\", hue=\"level\", ax=axs[0], palette=color)\n",
    "sns.boxenplot(data=res_zarr_np1, x=\"compressor\", y=\"cspeed_xrt\", hue=\"level\", ax=axs[1], palette=color)\n",
    "sns.boxenplot(data=res_zarr_np1, x=\"compressor\", y=\"dspeed10s_xrt\", hue=\"level\", ax=axs[2], palette=color)\n",
    "\n",
    "axs[0].set_xlabel(\"\")\n",
    "axs[1].set_xlabel(\"\")\n",
    "axs[2].set_xlabel(\"\")\n",
    "\n",
    "axs[0].set_ylabel(\"Compression Ratio\")\n",
    "axs[1].set_ylabel(\"Compression speed (xRT)\")\n",
    "axs[2].set_ylabel(\"Decompression speed (xRT)\")\n",
    "\n",
    "axs[0].set_xticklabels(axs[0].get_xticklabels(), rotation=90)\n",
    "axs[1].set_xticklabels(axs[1].get_xticklabels(), rotation=90)\n",
    "axs[2].set_xticklabels(axs[2].get_xticklabels(), rotation=90)\n",
    "\n",
    "for ax in axs.flatten()[:-1]:\n",
    "    ax.get_legend().remove()\n",
    "\n",
    "prettify_axes(axs)\n",
    "fig_lev_np1.subplots_adjust(wspace=0.5, bottom=0.2)\n",
    "fig_lev_np1.suptitle(\"NP1\", fontsize=20)\n",
    "\n",
    "\n",
    "fig_lev_np2, axs = plt.subplots(ncols=3, nrows=1, figsize=figsize_rect)\n",
    "sns.boxenplot(data=res_zarr_np2, x=\"compressor\", y=\"CR\", hue=\"level\", ax=axs[0], palette=color)\n",
    "sns.boxenplot(data=res_zarr_np2, x=\"compressor\", y=\"cspeed_xrt\", hue=\"level\", ax=axs[1], palette=color)\n",
    "sns.boxenplot(data=res_zarr_np2, x=\"compressor\", y=\"dspeed10s_xrt\", hue=\"level\", ax=axs[2], palette=color)\n",
    "\n",
    "axs[0].set_xlabel(\"\")\n",
    "axs[1].set_xlabel(\"Compressor\")\n",
    "axs[2].set_xlabel(\"\")\n",
    "\n",
    "axs[0].set_ylabel(\"Compression Ratio\")\n",
    "axs[1].set_ylabel(\"Compression speed (xRT)\")\n",
    "axs[2].set_ylabel(\"Decompression speed (xRT)\")\n",
    "\n",
    "axs[0].set_xticklabels(axs[0].get_xticklabels(), rotation=90)\n",
    "axs[1].set_xticklabels(axs[1].get_xticklabels(), rotation=90)\n",
    "axs[2].set_xticklabels(axs[2].get_xticklabels(), rotation=90)\n",
    "\n",
    "for ax in axs.flatten()[:-1]:\n",
    "    ax.get_legend().remove()\n",
    "\n",
    "prettify_axes(axs)\n",
    "fig_lev_np2.subplots_adjust(wspace=0.5, bottom=0.25)\n",
    "fig_lev_np2.suptitle(\"NP2\", fontsize=20)\n"
   ]
  },
  {
   "cell_type": "code",
   "execution_count": null,
   "id": "a6fb9d70",
   "metadata": {},
   "outputs": [],
   "source": [
    "if save_fig:\n",
    "    fig_lev_np1.savefig(fig_folder / \"levels_np1.pdf\")\n",
    "    fig_lev_np2.savefig(fig_folder / \"levels_np2.pdf\")    "
   ]
  },
  {
   "cell_type": "code",
   "execution_count": null,
   "id": "a23b28d9",
   "metadata": {},
   "outputs": [],
   "source": [
    "color = \"YlGn\"\n",
    "\n",
    "fig_zlib, ax = plt.subplots(figsize=figsize_rect)\n",
    "\n",
    "res_zlib = res_chunk.query(\"compressor == 'blosc-zlib'\")\n",
    "\n",
    "sns.boxplot(data=res_zlib, x=\"level\", y=\"CR\", hue=\"shuffle\", ax=ax, palette=color)\n",
    "\n",
    "ax.set_xlabel(\"Compression Level\")\n",
    "ax.set_ylabel(\"Compression Ratio\")\n",
    "prettify_axes(ax)"
   ]
  },
  {
   "cell_type": "code",
   "execution_count": null,
   "id": "89ddfa0c",
   "metadata": {},
   "outputs": [],
   "source": [
    "if save_fig:\n",
    "    fig_zlib.savefig(fig_folder / \"zlib_level.pdf\")"
   ]
  },
  {
   "cell_type": "markdown",
   "id": "1f40a810",
   "metadata": {},
   "source": [
    "**COMMENT**\n",
    "\n",
    "For most compressors, compression level does its job (increasing levels yield increasing CR). Strangely, for `blosc-zlib` the level seems to have the opposite effect. Of course, the higher the level the slower the compression speed. Decompression speed doesn't seem to be affected (this is not the case for the `numcodecs.Zlib` wrapper, that doesn't play well with BIT shuffling).\n",
    "\n",
    "For the final analysis, let's pick the `high` level as the best option."
   ]
  },
  {
   "cell_type": "code",
   "execution_count": null,
   "id": "631205c5",
   "metadata": {},
   "outputs": [],
   "source": [
    "selected_level = \"high\"\n",
    "res_level = res_zarr.query(f\"level == '{selected_level}'\")"
   ]
  },
  {
   "cell_type": "markdown",
   "id": "cac911e2",
   "metadata": {},
   "source": [
    "As a final step, we select Zstd as best options:"
   ]
  },
  {
   "cell_type": "code",
   "execution_count": null,
   "id": "6fbd08f9",
   "metadata": {},
   "outputs": [],
   "source": [
    "selected_compressors = [\"blosc-zstd\", \"lzma\"]\n",
    "res_best_zstd = res_level.query(f\"compressor == 'blosc-zstd' and shuffle == 'bit'\")\n",
    "res_best_lzma = res_level.query(f\"compressor == 'lzma' and shuffle == 'byte'\")\n",
    "res_best_zarr = pd.concat([res_best_zstd, res_best_lzma])"
   ]
  },
  {
   "cell_type": "markdown",
   "id": "e1696124",
   "metadata": {},
   "source": [
    "# AUDIO compression\n",
    "\n",
    "Lossless audio codecs could provide a good alternative to general-purpose compression algorithms because: \n",
    "\n",
    "- Audio signals are also timeseries \n",
    "- Frequiency range is similar\n",
    "- Multiple channels are correlated\n",
    "\n",
    "We tried to use FLAC and WavPack. FLAC supports up to 2 channels with pyFLAC, so we need to either:\n",
    "- flatten multi-channel signals into (channel_chunk_size=-1)\n",
    "- save blocks with 2 channels (channel_chunk_size=2)"
   ]
  },
  {
   "cell_type": "code",
   "execution_count": null,
   "id": "ff6913b9",
   "metadata": {},
   "outputs": [],
   "source": [
    "res_audio = res_chunk.query(\"compressor_type == 'audio'\")"
   ]
  },
  {
   "cell_type": "markdown",
   "id": "2c791ec1",
   "metadata": {},
   "source": [
    "No shuffling is available in FLAC, so we just select the same chunk duration for the comparison. \n",
    "WavPack doesn't have a compression level."
   ]
  },
  {
   "cell_type": "markdown",
   "id": "6f66ee92",
   "metadata": {},
   "source": [
    "### FLAC: flattening or not?"
   ]
  },
  {
   "cell_type": "code",
   "execution_count": null,
   "id": "e023213e",
   "metadata": {},
   "outputs": [],
   "source": [
    "res_flac = res_audio.query(\"compressor == 'flac'\")"
   ]
  },
  {
   "cell_type": "code",
   "execution_count": null,
   "id": "2e93cb39",
   "metadata": {},
   "outputs": [],
   "source": [
    "fig_flac, axs = plt.subplots(ncols=3, figsize=figsize_rect)\n",
    "\n",
    "color = \"YlOrBr\"\n",
    "\n",
    "sns.boxenplot(data=res_flac, x=\"channel_chunk_size\", y=\"CR\", ax=axs[0], palette=color)\n",
    "sns.boxenplot(data=res_flac, x=\"channel_chunk_size\", y=\"cspeed_xrt\", ax=axs[1], palette=color)\n",
    "sns.boxenplot(data=res_flac, x=\"channel_chunk_size\", y=\"dspeed10s_xrt\", ax=axs[2], palette=color)\n",
    "\n",
    "axs[0].set_xlabel(\"\")\n",
    "axs[1].set_xlabel(\"Channel block size\")\n",
    "axs[2].set_xlabel(\"\")\n",
    "\n",
    "axs[0].set_ylabel(\"Compression Ratio\")\n",
    "axs[1].set_ylabel(\"Compression speed (xRT)\")\n",
    "axs[2].set_ylabel(\"Decompression speed (xRT)\")\n",
    "\n",
    "\n",
    "prettify_axes(axs)\n",
    "fig_flac.subplots_adjust(wspace=0.5)\n"
   ]
  },
  {
   "cell_type": "code",
   "execution_count": null,
   "id": "e9f3f137",
   "metadata": {},
   "outputs": [],
   "source": [
    "if save_fig:\n",
    "    fig_flac.savefig(fig_folder / \"flac_chunks.pdf\")"
   ]
  },
  {
   "cell_type": "code",
   "execution_count": null,
   "id": "be1ed1d3",
   "metadata": {},
   "outputs": [],
   "source": [
    "rest_flac = stat_test(res_flac, column_group_by=\"channel_chunk_size\", \n",
    "                      test_columns=test_columns, verbose=True)"
   ]
  },
  {
   "cell_type": "markdown",
   "id": "908912af",
   "metadata": {},
   "source": [
    "**COMMENT**\n",
    "\n",
    "Flattening or using \"stereo\" channels doesn't seem to make a difference for CR. Actually, compression and decompression speeds are slightly faster when stereo mode is enabled!"
   ]
  },
  {
   "cell_type": "code",
   "execution_count": null,
   "id": "2c2a58af",
   "metadata": {},
   "outputs": [],
   "source": [
    "res_wavpack = res_audio.query(\"compressor == 'wavpack'\")\n",
    "res_flac_2 = res_audio.query(\"channel_chunk_size == 2\") # wavpack has chunk_channel_size == -1\n",
    "res_audio_2 = pd.concat([res_flac_2, res_wavpack])"
   ]
  },
  {
   "cell_type": "code",
   "execution_count": null,
   "id": "0fe182d4",
   "metadata": {},
   "outputs": [],
   "source": [
    "res_audio_np1 = res_audio_2.query(\"probe == 'NP1'\")\n",
    "res_audio_np2 = res_audio_2.query(\"probe == 'NP2'\")"
   ]
  },
  {
   "cell_type": "markdown",
   "id": "855be42b",
   "metadata": {},
   "source": [
    "For both NP1 and NP2, the best zarr compressor is **Blosc-zstd - level 9 - chunk 1s/10s - shuffle BIT**"
   ]
  },
  {
   "cell_type": "code",
   "execution_count": null,
   "id": "091ab232",
   "metadata": {
    "scrolled": false
   },
   "outputs": [],
   "source": [
    "fig_audio_np1, axs = plt.subplots(ncols=3, nrows=1, figsize=figsize_rect)\n",
    "\n",
    "sns.boxplot(data=res_audio_np1, x=\"level\", y=\"CR\", hue=\"compressor\", ax=axs[0], palette=palette)\n",
    "sns.boxplot(data=res_audio_np1, x=\"level\", y=\"cspeed_xrt\", hue=\"compressor\", ax=axs[1], palette=palette)\n",
    "sns.boxplot(data=res_audio_np1, x=\"level\", y=\"dspeed10s_xrt\", hue=\"compressor\", ax=axs[2], palette=palette)\n",
    "\n",
    "axs[0].set_xlabel(\"\")\n",
    "axs[1].set_xlabel(\"\")\n",
    "axs[2].set_xlabel(\"\")\n",
    "\n",
    "axs[0].set_ylabel(\"Compression Ratio\")\n",
    "axs[1].set_ylabel(\"Compression speed (xRT)\")\n",
    "axs[2].set_ylabel(\"Decompression speed (xRT)\")\n",
    "\n",
    "axs[0].set_xticklabels(axs[0].get_xticklabels(), rotation=45)\n",
    "axs[1].set_xticklabels(axs[1].get_xticklabels(), rotation=45)\n",
    "axs[2].set_xticklabels(axs[2].get_xticklabels(), rotation=45)\n",
    "\n",
    "for ax in axs[1:]:\n",
    "    ax.get_legend().remove()\n",
    "\n",
    "fig_audio_np1.subplots_adjust(wspace=0.5, bottom=0.2)\n",
    "fig_audio_np1.suptitle(\"NP1\", fontsize=20)\n",
    "prettify_axes(axs)\n",
    "\n",
    "fig_audio_np2, axs = plt.subplots(ncols=3, nrows=1, figsize=figsize_rect)\n",
    "\n",
    "sns.boxplot(data=res_audio_np2, x=\"level\", y=\"CR\", hue=\"compressor\", ax=axs[0], palette=palette)\n",
    "sns.boxplot(data=res_audio_np2, x=\"level\", y=\"cspeed_xrt\", hue=\"compressor\", ax=axs[1], palette=palette)\n",
    "sns.boxplot(data=res_audio_np2, x=\"level\", y=\"dspeed10s_xrt\", hue=\"compressor\", ax=axs[2], palette=palette)\n",
    "\n",
    "axs[0].set_xlabel(\"\")\n",
    "axs[1].set_xlabel(\"Compressor\")\n",
    "axs[2].set_xlabel(\"\")\n",
    "\n",
    "axs[0].set_ylabel(\"Compression Ratio\")\n",
    "axs[1].set_ylabel(\"Compression speed (xRT)\")\n",
    "axs[2].set_ylabel(\"Decompression speed (xRT)\")\n",
    "\n",
    "axs[0].set_xticklabels(axs[0].get_xticklabels(), rotation=45)\n",
    "axs[1].set_xticklabels(axs[1].get_xticklabels(), rotation=45)\n",
    "axs[2].set_xticklabels(axs[2].get_xticklabels(), rotation=45)\n",
    "\n",
    "for ax in axs[1:]:\n",
    "    ax.get_legend().remove()\n",
    "\n",
    "fig_audio_np2.subplots_adjust(wspace=0.5, bottom=0.25)\n",
    "fig_audio_np2.suptitle(\"NP2\", fontsize=20)\n",
    "prettify_axes(axs)\n"
   ]
  },
  {
   "cell_type": "code",
   "execution_count": null,
   "id": "9ab107b9",
   "metadata": {},
   "outputs": [],
   "source": [
    "if save_fig:\n",
    "    fig_audio_np1.savefig(fig_folder / \"audio_np1.pdf\")\n",
    "    fig_audio_np2.savefig(fig_folder / \"audio_np2.pdf\")    "
   ]
  },
  {
   "cell_type": "markdown",
   "id": "0b45a8ab",
   "metadata": {},
   "source": [
    "### Compare all"
   ]
  },
  {
   "cell_type": "markdown",
   "id": "dc42df18",
   "metadata": {},
   "source": [
    "There is a slight increase in compression performance with compression level from low to medium, but not so between medium an high.  For FLAC, compression speed does not seem to by affected compression level.\n",
    "However, for WavPack, decompression speed is a bit slow (~0.5 cspeed_xrt), probably due to the sub-optimal implementation."
   ]
  },
  {
   "cell_type": "code",
   "execution_count": null,
   "id": "3e6957c7",
   "metadata": {},
   "outputs": [],
   "source": [
    "selected_level = \"medium\"\n",
    "res_best_audio = res_audio_2.query(f\"level == '{selected_level}'\")"
   ]
  },
  {
   "cell_type": "code",
   "execution_count": null,
   "id": "e1596601",
   "metadata": {},
   "outputs": [],
   "source": [
    "res_best_all = pd.concat([res_best_zarr, res_best_audio])"
   ]
  },
  {
   "cell_type": "code",
   "execution_count": null,
   "id": "f7fc109d",
   "metadata": {},
   "outputs": [],
   "source": [
    "res_best_np1 = res_best_all.query(\"probe == 'NP1'\")\n",
    "res_best_np2 = res_best_all.query(\"probe == 'NP2'\")"
   ]
  },
  {
   "cell_type": "code",
   "execution_count": null,
   "id": "d68670e4",
   "metadata": {},
   "outputs": [],
   "source": [
    "fig_best_all, axs = plt.subplots(ncols=3, nrows=2, figsize=figsize_square)\n",
    "\n",
    "plot_fun = sns.boxplot\n",
    "\n",
    "plot_fun(data=res_best_np1, x=\"compressor\", \n",
    "         y=\"CR\", ax=axs[0, 0], palette=palette)\n",
    "plot_fun(data=res_best_np1, x=\"compressor\", \n",
    "         y=\"cspeed_xrt\", ax=axs[0, 1], palette=palette)\n",
    "plot_fun(data=res_best_np1, x=\"compressor\", \n",
    "         y=\"dspeed10s_xrt\", ax=axs[0, 2], palette=palette)\n",
    "\n",
    "plot_fun(data=res_best_np2, x=\"compressor\", \n",
    "         y=\"CR\", ax=axs[1, 0], palette=palette)\n",
    "plot_fun(data=res_best_np2, x=\"compressor\", \n",
    "         y=\"cspeed_xrt\", ax=axs[1, 1], palette=palette)\n",
    "plot_fun(data=res_best_np2, x=\"compressor\", \n",
    "         y=\"dspeed10s_xrt\",  ax=axs[1, 2], palette=palette)\n",
    "\n",
    "axs[0, 1].set_title(\"NP1\", fontsize=25)\n",
    "axs[1, 1].set_title(\"NP2\", fontsize=25)\n",
    "\n",
    "\n",
    "axs[0, 0].set_xticklabels(axs[0, 0].get_xticklabels(), rotation=45)\n",
    "axs[0, 1].set_xticklabels(axs[0, 1].get_xticklabels(), rotation=45)\n",
    "axs[0, 2].set_xticklabels(axs[0, 2].get_xticklabels(), rotation=45)\n",
    "\n",
    "axs[1, 0].set_xticklabels(axs[0, 0].get_xticklabels(), rotation=45)\n",
    "axs[1, 1].set_xticklabels(axs[0, 1].get_xticklabels(), rotation=45)\n",
    "axs[1, 2].set_xticklabels(axs[0, 2].get_xticklabels(), rotation=45)\n",
    "\n",
    "axs[0, 0].set_xlabel(\"\")\n",
    "axs[1, 0].set_xlabel(\"\")\n",
    "axs[0, 1].set_xlabel(\"\")\n",
    "axs[1, 1].set_xlabel(\"compressor\")\n",
    "axs[0, 2].set_xlabel(\"\")\n",
    "axs[1, 2].set_xlabel(\"\")\n",
    "\n",
    "axs[0, 0].set_ylabel(\"Compression Ratio\")\n",
    "axs[0, 1].set_ylabel(\"Compression speed (xRT)\")\n",
    "axs[0, 2].set_ylabel(\"Decompression speed (xRT)\")\n",
    "axs[1, 0].set_ylabel(\"Compression Ratio\")\n",
    "axs[1, 1].set_ylabel(\"Compression speed (xRT)\")\n",
    "axs[1, 2].set_ylabel(\"Decompression speed (xRT)\")\n",
    "\n",
    "axs[0, 2].set_yscale(\"log\")\n",
    "axs[1, 2].set_yscale(\"log\")\n",
    "\n",
    "prettify_axes(axs)\n",
    "\n",
    "fig_best_all.subplots_adjust(wspace=0.5, hspace=0.3)"
   ]
  },
  {
   "cell_type": "code",
   "execution_count": null,
   "id": "538c1cef",
   "metadata": {},
   "outputs": [],
   "source": [
    "if save_fig:\n",
    "    fig_best_all.savefig(fig_folder / \"best.pdf\")"
   ]
  },
  {
   "cell_type": "code",
   "execution_count": null,
   "id": "4e80f606",
   "metadata": {},
   "outputs": [],
   "source": [
    "print(\"NP1\")\n",
    "res_np1_gb_comp = res_best_np1.groupby(\"compressor\")\n",
    "compressors = np.unique(res_best_np1.compressor)\n",
    "print(\"\\ncompression ratio\\n\")\n",
    "for compressor in compressors:\n",
    "    med = np.round(res_np1_gb_comp['CR'].median()[compressor], 2)\n",
    "    mad = np.round(res_np1_gb_comp['CR'].mad()[compressor], 2)\n",
    "    print(f\"{compressor}: {med}+-{mad}\")\n",
    "print(\"\\ncompression speed\\n\")\n",
    "for compressor in compressors:\n",
    "    med = np.round(res_np1_gb_comp['cspeed_xrt'].median()[compressor], 2)\n",
    "    mad = np.round(res_np1_gb_comp['cspeed_xrt'].mad()[compressor], 2)\n",
    "    print(f\"{compressor}: {med}+-{mad}\")\n",
    "print(\"\\ndecompression speed\\n\")\n",
    "for compressor in compressors:\n",
    "    med = np.round(res_np1_gb_comp['dspeed10s_xrt'].median()[compressor], 2)\n",
    "    mad = np.round(res_np1_gb_comp['dspeed10s_xrt'].mad()[compressor], 2)\n",
    "    print(f\"{compressor}: {med}+-{mad}\")\n",
    "    \n",
    "print(\"\\n\\nNP2\")\n",
    "res_np2_gb_comp = res_best_np1.groupby(\"compressor\")\n",
    "print(\"\\ncompression ratio\\n\")\n",
    "for compressor in compressors:\n",
    "    med = np.round(res_np2_gb_comp['CR'].median()[compressor], 2)\n",
    "    mad = np.round(res_np2_gb_comp['CR'].mad()[compressor], 2)\n",
    "    print(f\"{compressor}: {med}+-{mad}\")\n",
    "print(\"\\ncompression speed\\n\")\n",
    "for compressor in compressors:\n",
    "    med = np.round(res_np2_gb_comp['cspeed_xrt'].median()[compressor], 2)\n",
    "    mad = np.round(res_np2_gb_comp['cspeed_xrt'].mad()[compressor], 2)\n",
    "    print(f\"{compressor}: {med}+-{mad}\")\n",
    "print(\"\\ndecompression speed\\n\")\n",
    "for compressor in compressors:\n",
    "    med = np.round(res_np2_gb_comp['dspeed10s_xrt'].median()[compressor], 2)\n",
    "    mad = np.round(res_np2_gb_comp['dspeed10s_xrt'].mad()[compressor], 2)\n",
    "    print(f\"{compressor}: {med}+-{mad}\")"
   ]
  },
  {
   "cell_type": "markdown",
   "id": "a8d8d0a2",
   "metadata": {},
   "source": [
    "### Conclusion\n"
   ]
  },
  {
   "cell_type": "markdown",
   "id": "846be4bb",
   "metadata": {},
   "source": [
    "In terms of CR, FLAC reaches the highest lossless compression for NP1 (3.462 -- $\\sim$29% size), but it is extremely slow to decompress. Note that Zstd, with its 3.13 CR, reduced the size to $\\sim$32%. WavPack is somewhere in the middle (CR 3.36 -- $\\sim$30% size). \n",
    "\n",
    "For NP2, WavPack can reduce to a $\\sim$42% size in contrast to a $\\sim$53% of Zstd. Decompression is currently a bit slow also for WavPack (around 5s to retrieve 10s of traces), but this can be probably improved by bypassing the temporary wav conversion and binding the WavPack C library directly."
   ]
  }
 ],
 "metadata": {
  "kernelspec": {
   "display_name": "Python 3 (ipykernel)",
   "language": "python",
   "name": "python3"
  },
  "language_info": {
   "codemirror_mode": {
    "name": "ipython",
    "version": 3
   },
   "file_extension": ".py",
   "mimetype": "text/x-python",
   "name": "python",
   "nbconvert_exporter": "python",
   "pygments_lexer": "ipython3",
   "version": "3.9.11"
  },
  "vscode": {
   "interpreter": {
    "hash": "916dbcbb3f70747c44a77c7bcd40155683ae19c65e1c03b4aa3499c5328201f1"
   }
  }
 },
 "nbformat": 4,
 "nbformat_minor": 5
}
