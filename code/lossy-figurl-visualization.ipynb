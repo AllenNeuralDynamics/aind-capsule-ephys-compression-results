{
 "cells": [
  {
   "cell_type": "markdown",
   "id": "86742ef6",
   "metadata": {},
   "source": [
    "# Lossy visualization with Figurl\n",
    "\n",
    "This notebook produces the visualization links of the `Appendix A` in the paper.\n",
    "\n",
    "We assumes the `ephys-compression/scripts/benchmark-lossly-exp.py` scripts have been run and the  `../data/ephys-compression-results/results-lossy-exp` are available. Specifically, this notebook uses the  `../data/ephys-compression-results/results-lossy-exp/compressed_recordings` folder, which contain short 5-s snippets of the datasets after lossy compression. "
   ]
  },
  {
   "cell_type": "code",
   "execution_count": null,
   "id": "7c5b4106",
   "metadata": {},
   "outputs": [],
   "source": [
    "import warnings\n",
    "warnings.filterwarnings(\"ignore\")\n",
    "warnings.filterwarnings(\"ignore\", category=DeprecationWarning)"
   ]
  },
  {
   "cell_type": "code",
   "execution_count": null,
   "id": "ef85bd70",
   "metadata": {},
   "outputs": [],
   "source": [
    "import numpy as np\n",
    "import os\n",
    "from pathlib import Path\n",
    "import pandas as pd\n",
    "import json\n",
    "\n",
    "import spikeinterface as si\n",
    "import spikeinterface.preprocessing as spre\n",
    "import spikeinterface.widgets as sw\n",
    "\n",
    "%matplotlib widget"
   ]
  },
  {
   "cell_type": "code",
   "execution_count": null,
   "id": "9187bcd5",
   "metadata": {},
   "outputs": [],
   "source": [
    "kachery_client = os.getenv(\"KACHERY_CLOUD_CLIENT_ID\")\n",
    "kachery_key = os.getenv(\"KACHERY_CLOUD_PRIVATE_KEY\")\n",
    "kachery_zone = os.getenv(\"KACHERY_ZONE\")"
   ]
  },
  {
   "cell_type": "code",
   "execution_count": null,
   "id": "f971f47c",
   "metadata": {},
   "outputs": [],
   "source": [
    "if not (kachery_client and kachery_key):\n",
    "    warnings.warn(\"KACHERY secrets (KACHERY_CLOUD_CLIENT_ID and KACHERY_CLOUD_PRIVATE_KEY) not found. \"\n",
    "                  \"Visualization might fail!\")\n",
    "if kachery_zone is None and kachery_zone != \"aind\":\n",
    "    warnings.warn(\"KACHERY_ZONE not set to 'aind'\")"
   ]
  },
  {
   "cell_type": "code",
   "execution_count": null,
   "id": "86854da4",
   "metadata": {},
   "outputs": [],
   "source": [
    "data_folder = Path(\"../data/\")\n",
    "results_folder = Path(\"../results/\")"
   ]
  },
  {
   "cell_type": "code",
   "execution_count": null,
   "id": "3b86befe",
   "metadata": {},
   "outputs": [],
   "source": [
    "# load lossy results\n",
    "results_lossy_exp_folder = data_folder / \"ephys-compression-results\" / \"results-lossy-exp\"\n",
    "\n",
    "res_lossy_exp = pd.read_csv(results_lossy_exp_folder / \"benchmark-lossy-exp.csv\", index_col=False)\n",
    "compressed_recordings_folder = results_lossy_exp_folder / \"compressed_recordings\""
   ]
  },
  {
   "cell_type": "code",
   "execution_count": null,
   "id": "4b21fc10",
   "metadata": {},
   "outputs": [],
   "source": [
    "probe_names = {\"Neuropixels1.0\": \"NP1\",\n",
    "               \"Neuropixels2.0\": \"NP2\"}\n",
    "for probe, probe_name in probe_names.items():\n",
    "    res_lossy_exp.loc[res_lossy_exp.query(f\"probe == '{probe}'\").index, \"probe\"] = probe_name\n",
    "probes = [\"NP1\", \"NP2\"]"
   ]
  },
  {
   "cell_type": "code",
   "execution_count": null,
   "id": "847b1ffd",
   "metadata": {},
   "outputs": [],
   "source": [
    "strategies = [\"wavpack\", \"bit_truncation\"]\n",
    "\n",
    "factors = {\n",
    "    \"wavpack\": [0, 6, 5, 4, 3.5, 3, 2.5, 2.25],\n",
    "    \"bit_truncation\": [0, 1, 2, 3, 4, 5, 6, 7]\n",
    "}\n",
    "\n",
    "fig_titles = {\n",
    "    \"bit_truncation\": \"Bit truncation\",\n",
    "    \"wavpack\": \"WavPack Hybrid\"   \n",
    "}\n",
    "\n",
    "sessions = np.unique(res_lossy_exp.session)"
   ]
  },
  {
   "cell_type": "code",
   "execution_count": null,
   "id": "24449ff8",
   "metadata": {},
   "outputs": [],
   "source": [
    "time_range_viz = np.array([2, 2.5])\n",
    "clim = (-50, 50)"
   ]
  },
  {
   "cell_type": "code",
   "execution_count": null,
   "id": "1f586906",
   "metadata": {},
   "outputs": [],
   "source": [
    "viz_links = {}\n",
    "\n",
    "rec_comps = {}\n",
    "for session in sessions:\n",
    "    viz_links[session] = {}\n",
    "\n",
    "    probe_name = np.unique(res_lossy_exp.query(f\"session == '{session}'\").probe)[0]\n",
    "    print(f\"Plotting session: {probe_name} - {session}\")\n",
    "\n",
    "    for strategy in strategies:\n",
    "        print(f\"\\tStrategy {strategy}\")\n",
    "        rec_comp_dict = {}\n",
    "        for factor in factors[strategy]:\n",
    "            rec = si.read_zarr(compressed_recordings_folder / f\"{session}_{strategy}-{factor}.zarr\")\n",
    "            rec_proc = spre.highpass_filter(rec)\n",
    "            rec_proc = spre.common_reference(rec_proc)\n",
    "            rec_comp_dict[str(factor)] = rec_proc\n",
    "        try:\n",
    "            # generate link\n",
    "            w = sw.plot_timeseries(rec_comp_dict,\n",
    "                                   time_range=time_range_viz, clim=clim,\n",
    "                                   return_scaled=True,\n",
    "                                   figlabel=f\"{probe_name} - {session} - {fig_titles[strategy]}\",\n",
    "                                   order_channel_by_depth=True,\n",
    "                                   backend=\"sortingview\")\n",
    "            viz_links[session][strategy] = w.url\n",
    "        except Exception as e:\n",
    "            print(f\"Failed to visualize {session} - {strategy}\\n\\n{e}\")"
   ]
  },
  {
   "cell_type": "code",
   "execution_count": null,
   "id": "b19089a6",
   "metadata": {},
   "outputs": [],
   "source": [
    "# save viz in output\n",
    "viz_output = json.dumps(viz_links, indent=4)\n",
    "# replace special characters\n",
    "viz_output = viz_output.replace('\\\\\"', \"%22\")\n",
    "viz_output = viz_output.replace('#', \"%23\")\n",
    "\n",
    "# save vizualization output\n",
    "visualization_output_file = results_folder / \"visualization_output.json\"\n",
    "# remove escape characters\n",
    "visualization_output_file.write_text(viz_output)\n",
    "\n",
    "# save to latex\n",
    "lines = []\n",
    "lines.append(\"\\\\begin{itemize}\")\n",
    "for session, viz_dict in viz_links.items():\n",
    "    session_ltx = session.replace(\"_\", \"\\\\_\")\n",
    "    lines.append(\"\\t\\\\item \" + session_ltx)\n",
    "\n",
    "    if len(viz_dict) > 0:\n",
    "        lines.append(\"\\t\\t\\\\begin{itemize}\")\n",
    "        \n",
    "    # bit truncation\n",
    "    if \"bit_truncation\" in viz_dict:\n",
    "        link = viz_dict[\"bit_truncation\"]\n",
    "        name = \"Bit truncation\"\n",
    "        lines.append(\"\\t\\t\\t\\\\item \\\\href{\" + f\"{link}\" + \"}{\" + f\"{name}\" + \"}\")\n",
    "    # WVH\n",
    "    if \"wavpack\" in viz_dict:\n",
    "        link = viz_dict[\"wavpack\"]\n",
    "        name = \"\\\\texttt{WavPack} Hybrid\"\n",
    "        lines.append(\"\\t\\t\\t\\\\item \\\\href{\" + f\"{link}\" + \"}{\" + f\"{name}\" + \"}\")\n",
    "    if len(viz_dict) > 0:\n",
    "        lines.append(\"\\t\\t\\\\end{itemize}\")\n",
    "lines.append(\"\\\\end{itemize}\")\n",
    "\n",
    "with (results_folder / \"vis_latex.txt\").open(\"w\") as f:\n",
    "    for l in lines:\n",
    "        print(l)\n",
    "        f.write(f\"{l}\\n\")"
   ]
  }
 ],
 "metadata": {
  "kernelspec": {
   "display_name": "Python 3 (ipykernel)",
   "language": "python",
   "name": "python3"
  },
  "language_info": {
   "codemirror_mode": {
    "name": "ipython",
    "version": 3
   },
   "file_extension": ".py",
   "mimetype": "text/x-python",
   "name": "python",
   "nbconvert_exporter": "python",
   "pygments_lexer": "ipython3",
   "version": "3.9.11"
  }
 },
 "nbformat": 4,
 "nbformat_minor": 5
}
