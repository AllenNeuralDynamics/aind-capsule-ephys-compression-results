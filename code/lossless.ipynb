{
 "cells": [
  {
   "cell_type": "markdown",
   "id": "4f3b0e35",
   "metadata": {},
   "source": [
    "# Lossless compression\n",
    "\n",
    "This notebook reproduces the results of the `Lossless compression` section in the paper.\n",
    "\n",
    "We assume the `ephys-compression/scripts/benchmark-lossless.py` has been run and the `../data/ephys-compression-results/results-lossless/benchmark-lossless.csv\"` is available."
   ]
  },
  {
   "cell_type": "code",
   "execution_count": null,
   "id": "2d2b94e1",
   "metadata": {},
   "outputs": [],
   "source": [
    "import warnings\n",
    "warnings.filterwarnings(\"ignore\")\n",
    "warnings.filterwarnings(\"ignore\", category=DeprecationWarning)"
   ]
  },
  {
   "cell_type": "code",
   "execution_count": null,
   "id": "9bfd57f8",
   "metadata": {},
   "outputs": [],
   "source": [
    "import numpy as np\n",
    "from pathlib import Path\n",
    "import matplotlib.pyplot as plt\n",
    "\n",
    "import matplotlib\n",
    "matplotlib.rcParams['pdf.fonttype'] = 42\n",
    "matplotlib.rcParams['ps.fonttype'] = 42\n",
    "\n",
    "import pandas as pd\n",
    "import seaborn as sns\n",
    "\n",
    "from utils import prettify_axes, stat_test\n",
    "\n",
    "%matplotlib inline"
   ]
  },
  {
   "cell_type": "code",
   "execution_count": null,
   "id": "6fe0c3b4",
   "metadata": {},
   "outputs": [],
   "source": [
    "figsize_single = (10, 5)\n",
    "figsize_multi_2rows = (10, 9)\n",
    "figsize_multi_3rows = (10, 12)\n",
    "figsize_multi_4rows = (10, 12)"
   ]
  },
  {
   "cell_type": "code",
   "execution_count": null,
   "id": "ba687d38",
   "metadata": {},
   "outputs": [],
   "source": [
    "data_folder = Path(\"../data\")\n",
    "results_folder = Path(\"../results\")\n",
    "\n",
    "save_fig = True\n",
    "fig_folder = results_folder / \"figures\"\n",
    "fig_folder.mkdir(exist_ok=True, parents=True)\n",
    "\n",
    "results_lossless_folder = data_folder / \"ephys-compression-results\" / \"results-lossless\""
   ]
  },
  {
   "cell_type": "code",
   "execution_count": null,
   "id": "57a55f86",
   "metadata": {},
   "outputs": [],
   "source": [
    "res = pd.read_csv(results_lossless_folder / \"benchmark-lossless.csv\", index_col=False)\n",
    "res_delta = pd.read_csv(results_lossless_folder / \"benchmark-lossless-delta.csv\", index_col=False)\n",
    "res_pre = pd.read_csv(results_lossless_folder / \"benchmark-lossless-preprocessing.csv\", index_col=False)"
   ]
  },
  {
   "cell_type": "code",
   "execution_count": null,
   "id": "dd7c4795",
   "metadata": {},
   "outputs": [],
   "source": [
    "probe_names = {\"Neuropixels1.0\": \"NP1\",\n",
    "               \"Neuropixels2.0\": \"NP2\"}\n",
    "for probe, probe_name in probe_names.items():\n",
    "    res.loc[res.query(f\"probe == '{probe}'\").index, \"probe\"] = probe_name\n",
    "    res_delta.loc[res_delta.query(f\"probe == '{probe}'\").index, \"probe\"] = probe_name\n",
    "    res_pre.loc[res_pre.query(f\"probe == '{probe}'\").index, \"probe\"] = probe_name"
   ]
  },
  {
   "cell_type": "code",
   "execution_count": null,
   "id": "6b8ee843",
   "metadata": {},
   "outputs": [],
   "source": [
    "# color palettes\n",
    "cmap = plt.get_cmap(\"Paired\")\n",
    "compressor_palette = {}\n",
    "ctypes = [\"blosc\", \"numcodecs\", \"audio\"]\n",
    "num_compressors = len(np.unique(res.compressor))\n",
    "i = 0\n",
    "for ctype in ctypes:\n",
    "    res_ctype = res.query(f\"compressor_type == '{ctype}'\")\n",
    "    for comp in np.unique(res_ctype.sort_values(\"compressor\").compressor):\n",
    "        compressor_palette[comp]  = cmap(i / num_compressors)\n",
    "        i += 1\n",
    "compressor_palette_dark = compressor_palette.copy()\n",
    "darker = 0.2\n",
    "\n",
    "for comp, color in compressor_palette.items():\n",
    "    col_dark = (max(color[0] - darker, 0), max(color[1] - darker, 0), max(color[2] - darker, 0), 0.8)\n",
    "    compressor_palette_dark[comp] = col_dark\n",
    "\n",
    "standard_palette = \"Greys\""
   ]
  },
  {
   "cell_type": "code",
   "execution_count": null,
   "id": "ef197f10",
   "metadata": {},
   "outputs": [],
   "source": [
    "test_columns=[\"CR\", \"cspeed_xrt\", \"dspeed10s_xrt\"]"
   ]
  },
  {
   "cell_type": "markdown",
   "id": "45c8fe55",
   "metadata": {},
   "source": [
    "## LSB correction"
   ]
  },
  {
   "cell_type": "code",
   "execution_count": null,
   "id": "046a5417",
   "metadata": {},
   "outputs": [],
   "source": [
    "res_aind = res.query(\"dataset != 'ibl-np1'\")"
   ]
  },
  {
   "cell_type": "code",
   "execution_count": null,
   "id": "4912d730",
   "metadata": {},
   "outputs": [],
   "source": [
    "rest_lsb = stat_test(res_aind, column_group_by=\"lsb\", \n",
    "                     test_columns=test_columns, verbose=True)"
   ]
  },
  {
   "cell_type": "code",
   "execution_count": null,
   "id": "304ec9f8",
   "metadata": {},
   "outputs": [],
   "source": [
    "# select LSB = True\n",
    "res_lsb = res.query(\"lsb != 'false'\")"
   ]
  },
  {
   "cell_type": "code",
   "execution_count": null,
   "id": "5efb2469",
   "metadata": {},
   "outputs": [],
   "source": [
    "rest_chunk = stat_test(res_lsb, column_group_by=\"chunk_duration\", \n",
    "                       test_columns=test_columns, verbose=True)"
   ]
  },
  {
   "cell_type": "markdown",
   "id": "fc834057",
   "metadata": {},
   "source": [
    "## Chunk size"
   ]
  },
  {
   "cell_type": "code",
   "execution_count": null,
   "id": "f3639c0b",
   "metadata": {},
   "outputs": [],
   "source": [
    "res_chunk = res_lsb.query(\"chunk_duration == '1s'\")"
   ]
  },
  {
   "cell_type": "code",
   "execution_count": null,
   "id": "807e422b",
   "metadata": {},
   "outputs": [],
   "source": [
    "rest_probe = stat_test(res_chunk, column_group_by=\"probe\", \n",
    "                       test_columns=test_columns, verbose=True)"
   ]
  },
  {
   "cell_type": "markdown",
   "id": "b09c9ea8",
   "metadata": {},
   "source": [
    "## Probe type"
   ]
  },
  {
   "cell_type": "markdown",
   "id": "8677ac7b",
   "metadata": {},
   "source": [
    "### Figure 1"
   ]
  },
  {
   "cell_type": "code",
   "execution_count": null,
   "id": "874e4f22",
   "metadata": {},
   "outputs": [],
   "source": [
    "fig_1, axs = plt.subplots(ncols=3, nrows=3, figsize=figsize_multi_3rows)\n",
    "\n",
    "sns.boxenplot(data=res_aind, x=\"lsb\", y=\"CR\", ax=axs[0, 0], palette=standard_palette)\n",
    "sns.boxenplot(data=res_aind, x=\"lsb\", y=\"cspeed_xrt\", ax=axs[0, 1], palette=standard_palette)\n",
    "sns.boxenplot(data=res_aind, x=\"lsb\", y=\"dspeed10s_xrt\", ax=axs[0, 2], palette=standard_palette)\n",
    "\n",
    "axs[0, 0].set_xlabel(\"\")\n",
    "axs[0, 2].set_xlabel(\"\")\n",
    "axs[0, 1].set_xlabel(\"LSB correction\")\n",
    "\n",
    "axs[0, 0].set_xticklabels([\"off\", \"on\"])\n",
    "axs[0, 1].set_xticklabels([\"off\", \"on\"])\n",
    "axs[0, 2].set_xticklabels([\"off\", \"on\"])\n",
    "\n",
    "axs[0, 0].set_ylabel(\"Compression Ratio\")\n",
    "axs[0, 1].set_ylabel(\"Compression speed (xRT)\")\n",
    "axs[0, 2].set_ylabel(\"Decompression speed (xRT)\")\n",
    "\n",
    "\n",
    "chunk_order = [\"0.1s\", \"1s\", \"10s\"]\n",
    "\n",
    "sns.boxenplot(data=res_lsb, x=\"chunk_duration\", y=\"CR\", ax=axs[1, 0], palette=standard_palette,\n",
    "              order=chunk_order)\n",
    "sns.boxenplot(data=res_lsb, x=\"chunk_duration\", y=\"cspeed_xrt\", ax=axs[1, 1], palette=standard_palette,\n",
    "              order=chunk_order)\n",
    "sns.boxenplot(data=res_lsb, x=\"chunk_duration\", y=\"dspeed10s_xrt\", ax=axs[1, 2], palette=standard_palette,\n",
    "              order=chunk_order)\n",
    "\n",
    "axs[1, 0].set_xlabel(\"\")\n",
    "axs[1, 1].set_xlabel(\"Chunk duration (s)\")\n",
    "axs[1, 2].set_xlabel(\"\")\n",
    "\n",
    "axs[1, 0].set_xticklabels([\"0.1\", \"1\", \"10\"])\n",
    "axs[1, 1].set_xticklabels([\"0.1\", \"1\", \"10\"])\n",
    "axs[1, 2].set_xticklabels([\"0.1\", \"1\", \"10\"])\n",
    "\n",
    "axs[1, 0].set_ylabel(\"Compression Ratio\")\n",
    "axs[1, 1].set_ylabel(\"Compression speed (xRT)\")\n",
    "axs[1, 2].set_ylabel(\"Decompression speed (xRT)\")\n",
    "\n",
    "probe_order = [\"NP1\", \"NP2\"]\n",
    "\n",
    "\n",
    "sns.boxenplot(data=res_chunk, x=\"probe\", y=\"CR\", ax=axs[2, 0], palette=standard_palette,\n",
    "              order=probe_order)\n",
    "sns.boxenplot(data=res_chunk, x=\"probe\", y=\"cspeed_xrt\", ax=axs[2, 1], palette=standard_palette,\n",
    "              order=probe_order)\n",
    "sns.boxenplot(data=res_chunk, x=\"probe\", y=\"dspeed10s_xrt\", ax=axs[2, 2], palette=standard_palette,\n",
    "              order=probe_order)\n",
    "\n",
    "axs[2, 0].set_xlabel(\"\")\n",
    "axs[2, 1].set_xlabel(\"Probe type\")\n",
    "axs[2, 2].set_xlabel(\"\")\n",
    "\n",
    "axs[2, 0].set_xticklabels([\"NP1\", \"NP2\"])\n",
    "axs[2, 1].set_xticklabels([\"NP1\", \"NP2\"])\n",
    "axs[2, 2].set_xticklabels([\"NP1\", \"NP2\"])\n",
    "\n",
    "axs[2, 0].set_ylabel(\"Compression Ratio\")\n",
    "axs[2, 1].set_ylabel(\"Compression speed (xRT)\")\n",
    "axs[2, 2].set_ylabel(\"Decompression speed (xRT)\")\n",
    "\n",
    "fig_1.subplots_adjust(wspace=0.5, hspace=0.3)\n",
    "for ax in axs[:, 2]:\n",
    "    ax.set_yscale(\"log\")\n",
    "prettify_axes(axs, label_fs=12)"
   ]
  },
  {
   "cell_type": "code",
   "execution_count": null,
   "id": "8adb906b",
   "metadata": {},
   "outputs": [],
   "source": [
    "if save_fig:\n",
    "    fig_1.savefig(fig_folder / \"fig1.pdf\")"
   ]
  },
  {
   "cell_type": "markdown",
   "id": "493d2b2a",
   "metadata": {},
   "source": [
    "## General compressors \n",
    "\n",
    "We start by comparing compression options readily available via the Blosc meta-compressor in ZARR"
   ]
  },
  {
   "cell_type": "code",
   "execution_count": null,
   "id": "feb2bffe",
   "metadata": {},
   "outputs": [],
   "source": [
    "res_zarr = res_chunk.query(f\"compressor_type != 'audio'\")"
   ]
  },
  {
   "cell_type": "code",
   "execution_count": null,
   "id": "888c2d36",
   "metadata": {},
   "outputs": [],
   "source": [
    "res_zarr_np1 = res_zarr.query(\"probe == 'NP1'\")\n",
    "res_zarr_np2 = res_zarr.query(\"probe == 'NP2'\")"
   ]
  },
  {
   "cell_type": "code",
   "execution_count": null,
   "id": "1ae2aab8",
   "metadata": {},
   "outputs": [],
   "source": [
    "fig_2, axs = plt.subplots(ncols=3, nrows=2, figsize=figsize_multi_2rows)\n",
    "\n",
    "order = sorted(np.unique(res_zarr_np1.compressor))\n",
    "\n",
    "sns.boxenplot(data=res_zarr_np1, x=\"compressor\", y=\"CR\", ax=axs[0, 0], order=order,\n",
    "              palette=compressor_palette)\n",
    "sns.boxenplot(data=res_zarr_np1, x=\"compressor\", y=\"cspeed_xrt\", ax=axs[0, 1], order=order,\n",
    "              palette=compressor_palette)\n",
    "sns.boxenplot(data=res_zarr_np1, x=\"compressor\", y=\"dspeed10s_xrt\", ax=axs[0, 2], order=order,\n",
    "              palette=compressor_palette)\n",
    "\n",
    "axs[0, 0].set_xlabel(\"\")\n",
    "axs[0, 1].set_xlabel(\"\")\n",
    "axs[0, 2].set_xlabel(\"\")\n",
    "\n",
    "axs[0, 0].set_ylabel(\"Compression Ratio\")\n",
    "axs[0, 1].set_ylabel(\"Compression speed (xRT)\")\n",
    "axs[0, 2].set_ylabel(\"Decompression speed (xRT)\")\n",
    "\n",
    "axs[0, 0].set_xticklabels(axs[0, 0].get_xticklabels(), rotation=90)\n",
    "axs[0, 1].set_xticklabels(axs[0, 1].get_xticklabels(), rotation=90)\n",
    "axs[0, 2].set_xticklabels(axs[0, 2].get_xticklabels(), rotation=90)\n",
    "\n",
    "sns.boxenplot(data=res_zarr_np2, x=\"compressor\", y=\"CR\", ax=axs[1, 0], order=order,\n",
    "              palette=compressor_palette)\n",
    "sns.boxenplot(data=res_zarr_np2, x=\"compressor\", y=\"cspeed_xrt\", ax=axs[1, 1], order=order,\n",
    "              palette=compressor_palette)\n",
    "sns.boxenplot(data=res_zarr_np2, x=\"compressor\", y=\"dspeed10s_xrt\", ax=axs[1, 2], order=order,\n",
    "              palette=compressor_palette)\n",
    "\n",
    "axs[1, 0].set_xlabel(\"\")\n",
    "axs[1, 1].set_xlabel(\"Compressor\")\n",
    "axs[1, 2].set_xlabel(\"\")\n",
    "\n",
    "axs[1, 0].set_ylabel(\"Compression Ratio\")\n",
    "axs[1, 1].set_ylabel(\"Compression speed (xRT)\")\n",
    "axs[1, 2].set_ylabel(\"Decompression speed (xRT)\")\n",
    "\n",
    "axs[1, 0].set_xticklabels(axs[1, 0].get_xticklabels(), rotation=90)\n",
    "axs[1, 1].set_xticklabels(axs[1, 1].get_xticklabels(), rotation=90)\n",
    "axs[1, 2].set_xticklabels(axs[1, 2].get_xticklabels(), rotation=90)\n",
    "\n",
    "axs[0, 1].set_title(\"NP1\", fontsize=20)\n",
    "axs[1, 1].set_title(\"NP2\", fontsize=20)\n",
    "\n",
    "prettify_axes(axs, label_fs=13)\n",
    "for ax in axs[:, 2]:\n",
    "    ax.set_yscale(\"log\")\n",
    "fig_2.subplots_adjust(wspace=0.5, hspace=0.5, bottom=0.15)"
   ]
  },
  {
   "cell_type": "code",
   "execution_count": null,
   "id": "76d0d2a0",
   "metadata": {},
   "outputs": [],
   "source": [
    "display(res_zarr.groupby([\"probe\", \"compressor\"])[\"session\"].count())"
   ]
  },
  {
   "cell_type": "code",
   "execution_count": null,
   "id": "0103044d",
   "metadata": {},
   "outputs": [],
   "source": [
    "res_zarr.groupby([\"probe\", \"compressor\"])[[\"CR\", \"cspeed_xrt\", \"dspeed10s_xrt\"]].median().round(2)"
   ]
  },
  {
   "cell_type": "code",
   "execution_count": null,
   "id": "e0d3ef08",
   "metadata": {},
   "outputs": [],
   "source": [
    "res_zarr.groupby([\"probe\", \"compressor\"])[[\"CR\", \"cspeed_xrt\", \"dspeed10s_xrt\"]].std().round(2)"
   ]
  },
  {
   "cell_type": "code",
   "execution_count": null,
   "id": "5b70aa60",
   "metadata": {},
   "outputs": [],
   "source": [
    "if save_fig:\n",
    "    fig_2.savefig(fig_folder / \"fig2.pdf\")"
   ]
  },
  {
   "cell_type": "markdown",
   "id": "ae485f90",
   "metadata": {},
   "source": [
    "## Shuffling"
   ]
  },
  {
   "cell_type": "code",
   "execution_count": null,
   "id": "a96e943d",
   "metadata": {},
   "outputs": [],
   "source": [
    "color = \"Greys\"\n",
    "shuffle_order = [\"no\", \"byte\", \"bit\"]\n",
    "\n",
    "fig_3, axs = plt.subplots(ncols=3, nrows=4, figsize=figsize_multi_4rows)\n",
    "res_blosc = res_zarr_np1.query(\"compressor_type == 'blosc'\")\n",
    "sns.boxenplot(data=res_blosc, x=\"compressor\", y=\"CR\", hue=\"shuffle\", ax=axs[0, 0],\n",
    "              hue_order=shuffle_order, palette=standard_palette)\n",
    "sns.boxenplot(data=res_blosc, x=\"compressor\", y=\"cspeed_xrt\", hue=\"shuffle\", ax=axs[0, 1],\n",
    "              hue_order=shuffle_order, palette=standard_palette)\n",
    "sns.boxenplot(data=res_blosc, x=\"compressor\", y=\"dspeed10s_xrt\", hue=\"shuffle\", ax=axs[0, 2],\n",
    "              hue_order=shuffle_order, palette=standard_palette)\n",
    "\n",
    "res_nc = res_zarr_np1.query(\"compressor_type == 'numcodecs'\")\n",
    "sns.boxenplot(data=res_nc, x=\"compressor\", y=\"CR\", hue=\"shuffle\", ax=axs[1, 0],\n",
    "              hue_order=shuffle_order, palette=standard_palette)\n",
    "sns.boxenplot(data=res_nc, x=\"compressor\", y=\"cspeed_xrt\", hue=\"shuffle\", ax=axs[1, 1],\n",
    "              hue_order=shuffle_order, palette=standard_palette)\n",
    "sns.boxenplot(data=res_nc, x=\"compressor\", y=\"dspeed10s_xrt\", hue=\"shuffle\", ax=axs[1, 2],\n",
    "              hue_order=shuffle_order, palette=standard_palette)\n",
    "\n",
    "res_blosc = res_zarr_np2.query(\"compressor_type == 'blosc'\")\n",
    "sns.boxenplot(data=res_blosc, x=\"compressor\", y=\"CR\", hue=\"shuffle\", ax=axs[2, 0],\n",
    "              hue_order=shuffle_order, palette=standard_palette)\n",
    "sns.boxenplot(data=res_blosc, x=\"compressor\", y=\"cspeed_xrt\", hue=\"shuffle\", ax=axs[2, 1],\n",
    "              hue_order=shuffle_order, palette=standard_palette)\n",
    "sns.boxenplot(data=res_blosc, x=\"compressor\", y=\"dspeed10s_xrt\", hue=\"shuffle\", ax=axs[2, 2],\n",
    "              hue_order=shuffle_order, palette=standard_palette)\n",
    "\n",
    "res_nc = res_zarr_np2.query(\"compressor_type == 'numcodecs'\")\n",
    "sns.boxenplot(data=res_nc, x=\"compressor\", y=\"CR\", hue=\"shuffle\", ax=axs[3, 0],\n",
    "              hue_order=shuffle_order, palette=standard_palette)\n",
    "sns.boxenplot(data=res_nc, x=\"compressor\", y=\"cspeed_xrt\", hue=\"shuffle\", ax=axs[3, 1],\n",
    "              hue_order=shuffle_order, palette=standard_palette)\n",
    "sns.boxenplot(data=res_nc, x=\"compressor\", y=\"dspeed10s_xrt\", hue=\"shuffle\", ax=axs[3, 2],\n",
    "              hue_order=shuffle_order, palette=standard_palette)\n",
    "\n",
    "\n",
    "for i, ax in enumerate(axs.flatten()):\n",
    "    ax.set_xlabel(\"\")\n",
    "    ax.set_ylabel(\"\")\n",
    "    ax.set_xticklabels(ax.get_xticklabels(), rotation=45)\n",
    "    if i != 1:\n",
    "        ax.get_legend().remove()\n",
    "    if i % 3 == 0:\n",
    "        ax.set_ylabel(\"Compression Ratio\")\n",
    "    if i % 3 == 1:\n",
    "        ax.set_ylabel(\"Comp. speed (xRT)\")\n",
    "    if i % 3 == 2:\n",
    "        ax.set_ylabel(\"Decomp. speed (xRT)\")\n",
    "\n",
    "\n",
    "axs[3, 1].set_xlabel(\"Compressor\")\n",
    "axs[0, 1].set_title(\"NP1\", fontsize=20)\n",
    "axs[2, 1].set_title(\"NP2\", fontsize=20)\n",
    "        \n",
    "prettify_axes(axs, label_fs=13)\n",
    "for ax in axs[:, 2]:\n",
    "    ax.set_yscale(\"log\")\n",
    "fig_3.subplots_adjust(wspace=0.5, hspace=0.5)"
   ]
  },
  {
   "cell_type": "code",
   "execution_count": null,
   "id": "6832cc86",
   "metadata": {},
   "outputs": [],
   "source": [
    "display(res_blosc.groupby([\"probe\", \"compressor\", \"shuffle\"])[\"session\"].count())\n",
    "display(res_nc.groupby([\"probe\", \"compressor\", \"shuffle\"])[\"session\"].count())"
   ]
  },
  {
   "cell_type": "code",
   "execution_count": null,
   "id": "2eede62c",
   "metadata": {},
   "outputs": [],
   "source": [
    "if save_fig:\n",
    "    fig_3.savefig(fig_folder / \"fig3.pdf\")    "
   ]
  },
  {
   "cell_type": "markdown",
   "id": "3e7140a5",
   "metadata": {},
   "source": [
    "## Compression level"
   ]
  },
  {
   "cell_type": "code",
   "execution_count": null,
   "id": "4958cac9",
   "metadata": {},
   "outputs": [],
   "source": [
    "color = \"Greys\"\n",
    "\n",
    "level_order = [\"low\", \"medium\", \"high\"]\n",
    "fig_4, axs = plt.subplots(ncols=3, nrows=4, figsize=figsize_multi_4rows)\n",
    "res_blosc = res_zarr_np1.query(\"compressor_type == 'blosc'\")\n",
    "sns.boxenplot(data=res_blosc, x=\"compressor\", y=\"CR\", hue=\"level\", ax=axs[0, 0],\n",
    "              hue_order=level_order, palette=standard_palette)\n",
    "sns.boxenplot(data=res_blosc, x=\"compressor\", y=\"cspeed_xrt\", hue=\"level\", ax=axs[0, 1],\n",
    "              hue_order=level_order, palette=standard_palette)\n",
    "sns.boxenplot(data=res_blosc, x=\"compressor\", y=\"dspeed10s_xrt\", hue=\"level\", ax=axs[0, 2],\n",
    "              hue_order=level_order, palette=standard_palette)\n",
    "\n",
    "res_nc = res_zarr_np1.query(\"compressor_type == 'numcodecs'\")\n",
    "sns.boxenplot(data=res_nc, x=\"compressor\", y=\"CR\", hue=\"level\", ax=axs[1, 0],\n",
    "              hue_order=level_order, palette=standard_palette)\n",
    "sns.boxenplot(data=res_nc, x=\"compressor\", y=\"cspeed_xrt\", hue=\"level\", ax=axs[1, 1],\n",
    "              hue_order=level_order, palette=standard_palette)\n",
    "sns.boxenplot(data=res_nc, x=\"compressor\", y=\"dspeed10s_xrt\", hue=\"level\", ax=axs[1, 2],\n",
    "              hue_order=level_order, palette=standard_palette)\n",
    "\n",
    "res_blosc = res_zarr_np2.query(\"compressor_type == 'blosc'\")\n",
    "sns.boxenplot(data=res_blosc, x=\"compressor\", y=\"CR\", hue=\"level\", ax=axs[2, 0],\n",
    "              hue_order=level_order, palette=standard_palette)\n",
    "sns.boxenplot(data=res_blosc, x=\"compressor\", y=\"cspeed_xrt\", hue=\"level\", ax=axs[2, 1],\n",
    "              hue_order=level_order, palette=standard_palette)\n",
    "sns.boxenplot(data=res_blosc, x=\"compressor\", y=\"dspeed10s_xrt\", hue=\"level\", ax=axs[2, 2],\n",
    "              hue_order=level_order, palette=standard_palette)\n",
    "\n",
    "res_nc = res_zarr_np2.query(\"compressor_type == 'numcodecs'\")\n",
    "sns.boxenplot(data=res_nc, x=\"compressor\", y=\"CR\", hue=\"level\", ax=axs[3, 0],\n",
    "              hue_order=level_order, palette=standard_palette)\n",
    "sns.boxenplot(data=res_nc, x=\"compressor\", y=\"cspeed_xrt\", hue=\"level\", ax=axs[3, 1],\n",
    "              hue_order=level_order, palette=standard_palette)\n",
    "sns.boxenplot(data=res_nc, x=\"compressor\", y=\"dspeed10s_xrt\", hue=\"level\", ax=axs[3, 2],\n",
    "              hue_order=level_order, palette=standard_palette)\n",
    "\n",
    "\n",
    "for i, ax in enumerate(axs.flatten()):\n",
    "    ax.set_xlabel(\"\")\n",
    "    ax.set_ylabel(\"\")\n",
    "    ax.set_xticklabels(ax.get_xticklabels(), rotation=45)\n",
    "    if i != 1:\n",
    "        ax.get_legend().remove()\n",
    "    if i % 3 == 0:\n",
    "        ax.set_ylabel(\"Compression Ratio\")\n",
    "    if i % 3 == 1:\n",
    "        ax.set_ylabel(\"Comp. speed (xRT)\")\n",
    "    if i % 3 == 2:\n",
    "        ax.set_ylabel(\"Decomp. speed (xRT)\")\n",
    "\n",
    "\n",
    "axs[3, 1].set_xlabel(\"Compressor\")\n",
    "axs[0, 1].set_title(\"NP1\", fontsize=20)\n",
    "axs[2, 1].set_title(\"NP2\", fontsize=20)\n",
    "        \n",
    "prettify_axes(axs, label_fs=13)\n",
    "for ax in axs[:, 2]:\n",
    "    ax.set_yscale(\"log\")\n",
    "fig_4.subplots_adjust(wspace=0.5, hspace=0.5)"
   ]
  },
  {
   "cell_type": "code",
   "execution_count": null,
   "id": "bd7d1123",
   "metadata": {},
   "outputs": [],
   "source": [
    "display(res_blosc.groupby([\"probe\", \"compressor\", \"level\"])[\"session\"].count())\n",
    "display(res_nc.groupby([\"probe\", \"compressor\", \"level\"])[\"session\"].count())"
   ]
  },
  {
   "cell_type": "code",
   "execution_count": null,
   "id": "dc705213",
   "metadata": {},
   "outputs": [],
   "source": [
    "if save_fig:\n",
    "    fig_4.savefig(fig_folder / \"fig4.pdf\")"
   ]
  },
  {
   "cell_type": "code",
   "execution_count": null,
   "id": "00a757b7",
   "metadata": {},
   "outputs": [],
   "source": [
    "fig_s1, ax = plt.subplots(figsize=figsize_single)\n",
    "\n",
    "res_zlib = res_chunk.query(\"compressor == 'blosc-zlib'\")\n",
    "\n",
    "sns.boxplot(data=res_zlib, x=\"level\", y=\"CR\", hue=\"shuffle\", ax=ax, palette=standard_palette)\n",
    "\n",
    "ax.set_xlabel(\"Compression Level\")\n",
    "ax.set_ylabel(\"Compression Ratio\")\n",
    "prettify_axes(ax)"
   ]
  },
  {
   "cell_type": "code",
   "execution_count": null,
   "id": "0f434db2",
   "metadata": {},
   "outputs": [],
   "source": [
    "display(res_zlib.groupby([\"level\", \"shuffle\"])[\"session\"].count())"
   ]
  },
  {
   "cell_type": "code",
   "execution_count": null,
   "id": "444dde6b",
   "metadata": {},
   "outputs": [],
   "source": [
    "if save_fig:\n",
    "    fig_s1.savefig(fig_folder / \"figS1.pdf\")"
   ]
  },
  {
   "cell_type": "code",
   "execution_count": null,
   "id": "4428ffbb",
   "metadata": {},
   "outputs": [],
   "source": [
    "g_blosc_np1 = sns.relplot(data=res_zarr_np1.query(\"compressor_type == 'blosc'\"), \n",
    "                          x=\"CR\", y=\"dspeed10s_xrt\", hue=\"compressor\", \n",
    "                          style=\"shuffle\", size=\"level\", size_order=[\"high\", \"medium\", \"low\"],\n",
    "                          palette=compressor_palette)\n",
    "fig_S2_A = g_blosc_np1.figure\n",
    "ax = g_blosc_np1.ax\n",
    "ax.set_xlabel(\"Compression Ratio\")\n",
    "ax.set_ylabel(\"Decompression speed (xRT)\")\n",
    "ax.set_yscale(\"log\")\n",
    "prettify_axes([ax])\n",
    "\n",
    "g_blosc_np2 = sns.relplot(data=res_zarr_np2.query(\"compressor_type == 'blosc'\"), \n",
    "                          x=\"CR\", y=\"dspeed10s_xrt\", hue=\"compressor\", \n",
    "                          style=\"shuffle\", size=\"level\", size_order=[\"high\", \"medium\", \"low\"],\n",
    "                          palette=compressor_palette)\n",
    "fig_S2_B = g_blosc_np2.figure\n",
    "ax = g_blosc_np2.ax\n",
    "ax.set_xlabel(\"Compression Ratio\")\n",
    "ax.set_ylabel(\"Decompression speed (xRT)\")\n",
    "ax.set_yscale(\"log\")\n",
    "prettify_axes([ax])\n",
    "\n",
    "g_nc_np1 = sns.relplot(data=res_zarr_np1.query(\"compressor_type == 'numcodecs'\"), \n",
    "                       x=\"CR\", y=\"dspeed10s_xrt\", hue=\"compressor\", \n",
    "                       style=\"shuffle\", size=\"level\", size_order=[\"high\", \"medium\", \"low\"],\n",
    "                       palette=compressor_palette)\n",
    "fig_S2_C = g_nc_np1.figure\n",
    "ax = g_nc_np1.ax\n",
    "ax.set_xlabel(\"Compression Ratio\")\n",
    "ax.set_ylabel(\"Decompression speed (xRT)\")\n",
    "ax.set_yscale(\"log\")\n",
    "prettify_axes([ax])\n",
    "\n",
    "g_nc_np2 = sns.relplot(data=res_zarr_np2.query(\"compressor_type == 'numcodecs'\"), \n",
    "                       x=\"CR\", y=\"dspeed10s_xrt\", hue=\"compressor\", \n",
    "                       style=\"shuffle\", size=\"level\", size_order=[\"high\", \"medium\", \"low\"],\n",
    "                       palette=compressor_palette)\n",
    "fig_S2_D = g_nc_np2.figure\n",
    "ax = g_nc_np2.ax\n",
    "ax.set_xlabel(\"Compression Ratio\")\n",
    "ax.set_ylabel(\"Decompression speed (xRT)\")\n",
    "ax.set_yscale(\"log\")\n",
    "prettify_axes([ax])"
   ]
  },
  {
   "cell_type": "code",
   "execution_count": null,
   "id": "62e7247f",
   "metadata": {},
   "outputs": [],
   "source": [
    "if save_fig:\n",
    "    fig_S2_A.savefig(fig_folder / \"figS2-A.pdf\")\n",
    "    fig_S2_B.savefig(fig_folder / \"figS2-B.pdf\")\n",
    "    fig_S2_C.savefig(fig_folder / \"figS2-C.pdf\")\n",
    "    fig_S2_D.savefig(fig_folder / \"figS2-D.pdf\")"
   ]
  },
  {
   "cell_type": "code",
   "execution_count": null,
   "id": "2ac75523",
   "metadata": {},
   "outputs": [],
   "source": [
    "selected_level = \"high\"\n",
    "res_level = res_zarr.query(f\"level == '{selected_level}'\")"
   ]
  },
  {
   "cell_type": "code",
   "execution_count": null,
   "id": "7084ed99",
   "metadata": {},
   "outputs": [],
   "source": [
    "selected_compressors = [\"blosc-zstd\", \"lzma\"]\n",
    "res_best_zstd = res_level.query(f\"compressor == 'blosc-zstd' and shuffle == 'bit'\")\n",
    "res_best_lzma_np1 = res_level.query(f\"compressor == 'lzma' and shuffle == 'no' and probe == 'NP1'\")\n",
    "res_best_lzma_np2 = res_level.query(f\"compressor == 'lzma' and shuffle == 'byte' and probe == 'NP2'\")\n",
    "res_best_zarr = pd.concat([res_best_zstd, res_best_lzma_np1, res_best_lzma_np2])"
   ]
  },
  {
   "cell_type": "markdown",
   "id": "7f7b469c",
   "metadata": {},
   "source": [
    "## AUDIO compression"
   ]
  },
  {
   "cell_type": "code",
   "execution_count": null,
   "id": "bf370e72",
   "metadata": {},
   "outputs": [],
   "source": [
    "res_audio = res_chunk.query(\"compressor_type == 'audio'\")"
   ]
  },
  {
   "cell_type": "markdown",
   "id": "5b14dc43",
   "metadata": {},
   "source": [
    "### FLAC: channel block size"
   ]
  },
  {
   "cell_type": "code",
   "execution_count": null,
   "id": "53a35d74",
   "metadata": {},
   "outputs": [],
   "source": [
    "res_flac = res_audio.query(\"compressor == 'flac'\")"
   ]
  },
  {
   "cell_type": "code",
   "execution_count": null,
   "id": "6f2a89e0",
   "metadata": {},
   "outputs": [],
   "source": [
    "rest_flac = stat_test(res_flac, column_group_by=\"channel_chunk_size\", \n",
    "                      test_columns=test_columns, verbose=True)"
   ]
  },
  {
   "cell_type": "code",
   "execution_count": null,
   "id": "49b81b31",
   "metadata": {},
   "outputs": [],
   "source": [
    "fig_S3, axs = plt.subplots(ncols=3, figsize=figsize_single)\n",
    "\n",
    "sns.boxenplot(data=res_flac, x=\"channel_chunk_size\", y=\"CR\", ax=axs[0], palette=standard_palette)\n",
    "sns.boxenplot(data=res_flac, x=\"channel_chunk_size\", y=\"cspeed_xrt\", ax=axs[1], palette=standard_palette)\n",
    "sns.boxenplot(data=res_flac, x=\"channel_chunk_size\", y=\"dspeed10s_xrt\", ax=axs[2], palette=standard_palette)\n",
    "\n",
    "axs[0].set_xlabel(\"\")\n",
    "axs[1].set_xlabel(\"Channel block size\")\n",
    "axs[2].set_xlabel(\"\")\n",
    "\n",
    "axs[0].set_ylabel(\"Compression Ratio\")\n",
    "axs[1].set_ylabel(\"Compression speed (xRT)\")\n",
    "axs[2].set_ylabel(\"Decompression speed (xRT)\")\n",
    "axs[2].set_yscale(\"log\")\n",
    "\n",
    "prettify_axes(axs)\n",
    "fig_S3.subplots_adjust(wspace=0.5)"
   ]
  },
  {
   "cell_type": "code",
   "execution_count": null,
   "id": "efac4f80",
   "metadata": {},
   "outputs": [],
   "source": [
    "if save_fig:\n",
    "    fig_S3.savefig(fig_folder / \"figS3.pdf\")"
   ]
  },
  {
   "cell_type": "code",
   "execution_count": null,
   "id": "329ddd8e",
   "metadata": {},
   "outputs": [],
   "source": [
    "res_wavpack = res_audio.query(\"compressor == 'wavpack'\")\n",
    "res_flac_2 = res_audio.query(\"channel_chunk_size == 2\") # wavpack has chunk_channel_size == -1\n",
    "res_audio_2 = pd.concat([res_flac_2, res_wavpack])"
   ]
  },
  {
   "cell_type": "code",
   "execution_count": null,
   "id": "9861377e",
   "metadata": {},
   "outputs": [],
   "source": [
    "res_audio_np1 = res_audio_2.query(\"probe == 'NP1'\")\n",
    "res_audio_np2 = res_audio_2.query(\"probe == 'NP2'\")"
   ]
  },
  {
   "cell_type": "code",
   "execution_count": null,
   "id": "c778f1c6",
   "metadata": {},
   "outputs": [],
   "source": [
    "fig_5, axs = plt.subplots(ncols=3, nrows=2, figsize=figsize_multi_2rows)\n",
    "\n",
    "\n",
    "sns.boxplot(data=res_audio_np1, x=\"level\", \n",
    "            y=\"CR\", hue=\"compressor\", ax=axs[0, 0], palette=compressor_palette)\n",
    "sns.boxplot(data=res_audio_np1, x=\"level\", \n",
    "            y=\"cspeed_xrt\", hue=\"compressor\", ax=axs[0, 1], palette=compressor_palette)\n",
    "sns.boxplot(data=res_audio_np1, x=\"level\", \n",
    "            y=\"dspeed10s_xrt\", hue=\"compressor\", ax=axs[0, 2], palette=compressor_palette)\n",
    "\n",
    "\n",
    "sns.boxplot(data=res_audio_np2, x=\"level\", y=\"CR\", hue=\"compressor\", ax=axs[1, 0],\n",
    "            palette=compressor_palette)\n",
    "sns.boxplot(data=res_audio_np2, x=\"level\", y=\"cspeed_xrt\", hue=\"compressor\", ax=axs[1, 1],\n",
    "            palette=compressor_palette)\n",
    "sns.boxplot(data=res_audio_np2, x=\"level\", y=\"dspeed10s_xrt\", hue=\"compressor\", ax=axs[1, 2],\n",
    "            palette=compressor_palette)\n",
    "\n",
    "for i, ax in enumerate(axs.flatten()):\n",
    "    ax.set_xlabel(\"\")\n",
    "    ax.set_xticklabels(ax.get_xticklabels(), rotation=45)\n",
    "    if i > 0:\n",
    "        ax.get_legend().remove()\n",
    "    if i % 3 == 0:\n",
    "        ax.set_ylabel(\"Compression Ratio\")\n",
    "    if i % 3 == 1:\n",
    "        ax.set_ylabel(\"Compression speed (xRT)\")\n",
    "    if i % 3 == 2:\n",
    "        ax.set_ylabel(\"Decompression speed (xRT)\")\n",
    "\n",
    "\n",
    "axs[1, 1].set_xlabel(\"Compression Level\")\n",
    "axs[0, 1].set_title(\"NP1\", fontsize=20)\n",
    "axs[1, 1].set_title(\"NP2\", fontsize=20)\n",
    "\n",
    "for ax in axs[:, 2]:\n",
    "    ax.set_yscale(\"log\")\n",
    "\n",
    "prettify_axes(axs, label_fs=13)\n",
    "fig_5.subplots_adjust(wspace=0.5, hspace=0.4)"
   ]
  },
  {
   "cell_type": "code",
   "execution_count": null,
   "id": "a3e687a0",
   "metadata": {},
   "outputs": [],
   "source": [
    "display(res_audio_2.groupby([\"probe\", \"compressor\", \"level\"])[\"session\"].count())"
   ]
  },
  {
   "cell_type": "code",
   "execution_count": null,
   "id": "a523985e",
   "metadata": {},
   "outputs": [],
   "source": [
    "res_audio_2.groupby([\"probe\", \"compressor\", \"level\"])[[\"CR\", \"cspeed_xrt\", \"dspeed10s_xrt\"]].median().round(2)"
   ]
  },
  {
   "cell_type": "code",
   "execution_count": null,
   "id": "469ec910",
   "metadata": {},
   "outputs": [],
   "source": [
    "res_audio_2.groupby([\"probe\", \"compressor\", \"level\"])[[\"CR\", \"cspeed_xrt\", \"dspeed10s_xrt\"]].std().round(2)"
   ]
  },
  {
   "cell_type": "code",
   "execution_count": null,
   "id": "23babe8c",
   "metadata": {},
   "outputs": [],
   "source": [
    "if save_fig:\n",
    "    fig_5.savefig(fig_folder / \"fig5.pdf\")"
   ]
  },
  {
   "cell_type": "markdown",
   "id": "0c6adfd4",
   "metadata": {},
   "source": [
    "## Compare general-purpose and audio codecs"
   ]
  },
  {
   "cell_type": "code",
   "execution_count": null,
   "id": "3efa227c",
   "metadata": {},
   "outputs": [],
   "source": [
    "selected_level = \"medium\"\n",
    "res_best_audio = res_audio_2.query(f\"level == '{selected_level}'\")"
   ]
  },
  {
   "cell_type": "code",
   "execution_count": null,
   "id": "f1380805",
   "metadata": {},
   "outputs": [],
   "source": [
    "res_best_all = pd.concat([res_best_zarr, res_best_audio])"
   ]
  },
  {
   "cell_type": "code",
   "execution_count": null,
   "id": "0881e7f5",
   "metadata": {},
   "outputs": [],
   "source": [
    "res_best_np1 = res_best_all.query(\"probe == 'NP1'\")\n",
    "res_best_np2 = res_best_all.query(\"probe == 'NP2'\")"
   ]
  },
  {
   "cell_type": "code",
   "execution_count": null,
   "id": "d3b4e03b",
   "metadata": {},
   "outputs": [],
   "source": [
    "fig_6, axs = plt.subplots(ncols=3, nrows=2, figsize=figsize_multi_2rows)\n",
    "\n",
    "\n",
    "sns.boxplot(data=res_best_np1, x=\"compressor\", \n",
    "            y=\"CR\", ax=axs[0, 0], palette=compressor_palette)\n",
    "sns.stripplot(data=res_best_np1, x=\"compressor\", \n",
    "              y=\"CR\", ax=axs[0, 0], palette=compressor_palette_dark, marker=\"o\", edgecolor=\"k\",\n",
    "              linewidth=0.5)\n",
    "sns.boxplot(data=res_best_np1, x=\"compressor\", \n",
    "            y=\"cspeed_xrt\", ax=axs[0, 1], palette=compressor_palette)\n",
    "sns.stripplot(data=res_best_np1, x=\"compressor\", \n",
    "              y=\"cspeed_xrt\", ax=axs[0, 1], palette=compressor_palette_dark, marker=\"o\", edgecolor=\"k\",\n",
    "              linewidth=0.5)\n",
    "sns.boxplot(data=res_best_np1, x=\"compressor\", \n",
    "            y=\"dspeed10s_xrt\", ax=axs[0, 2], palette=compressor_palette)\n",
    "sns.stripplot(data=res_best_np1, x=\"compressor\", \n",
    "              y=\"dspeed10s_xrt\", ax=axs[0, 2], palette=compressor_palette_dark, marker=\"o\", edgecolor=\"k\",\n",
    "              linewidth=0.5)\n",
    "\n",
    "sns.boxplot(data=res_best_np2, x=\"compressor\", \n",
    "            y=\"CR\", ax=axs[1, 0], palette=compressor_palette)\n",
    "sns.stripplot(data=res_best_np2, x=\"compressor\", \n",
    "              y=\"CR\", ax=axs[1, 0], palette=compressor_palette_dark, marker=\"o\", edgecolor=\"k\",\n",
    "              linewidth=0.5)\n",
    "sns.boxplot(data=res_best_np2, x=\"compressor\", \n",
    "            y=\"cspeed_xrt\", ax=axs[1, 1], palette=compressor_palette)\n",
    "sns.stripplot(data=res_best_np2, x=\"compressor\", \n",
    "              y=\"cspeed_xrt\", ax=axs[1, 1], palette=compressor_palette_dark, marker=\"o\", edgecolor=\"k\",\n",
    "              linewidth=0.5)\n",
    "sns.boxplot(data=res_best_np2, x=\"compressor\", \n",
    "            y=\"dspeed10s_xrt\",  ax=axs[1, 2], palette=compressor_palette)\n",
    "sns.stripplot(data=res_best_np2, x=\"compressor\", \n",
    "              y=\"dspeed10s_xrt\", ax=axs[1, 2], palette=compressor_palette_dark, marker=\"o\", edgecolor=\"k\",\n",
    "              linewidth=0.5)\n",
    "for i, ax in enumerate(axs.flatten()):\n",
    "    ax.set_xlabel(\"\")\n",
    "    ax.set_xticklabels(ax.get_xticklabels(), rotation=45)\n",
    "    if i % 3 == 0:\n",
    "        ax.set_ylabel(\"Compression Ratio\")\n",
    "    if i % 3 == 1:\n",
    "        ax.set_ylabel(\"Compression speed (xRT)\")\n",
    "    if i % 3 == 2:\n",
    "        ax.set_ylabel(\"Decompression speed (xRT)\")\n",
    "\n",
    "axs[0, 1].set_title(\"NP1\", fontsize=25)\n",
    "axs[1, 1].set_title(\"NP2\", fontsize=25)\n",
    "axs[1, 1].set_xlabel(\"Compressor\")\n",
    "\n",
    "for ax in axs[:, 2]:\n",
    "    ax.set_yscale(\"log\")\n",
    "\n",
    "prettify_axes(axs)\n",
    "\n",
    "fig_6.subplots_adjust(wspace=0.5, hspace=0.3)"
   ]
  },
  {
   "cell_type": "code",
   "execution_count": null,
   "id": "270854f3",
   "metadata": {},
   "outputs": [],
   "source": [
    "display(res_best_all.groupby([\"probe\", \"compressor\", \"level\"])[\"session\"].count())"
   ]
  },
  {
   "cell_type": "code",
   "execution_count": null,
   "id": "9164f3b3",
   "metadata": {},
   "outputs": [],
   "source": [
    "if save_fig:\n",
    "    fig_6.savefig(fig_folder / \"fig6.pdf\")"
   ]
  },
  {
   "cell_type": "code",
   "execution_count": null,
   "id": "0e36b694",
   "metadata": {},
   "outputs": [],
   "source": [
    "res_best_all.groupby([\"probe\", \"compressor\"])[[\"CR\", \"cspeed_xrt\", \"dspeed10s_xrt\"]].median().round(2)"
   ]
  },
  {
   "cell_type": "code",
   "execution_count": null,
   "id": "3efad77b",
   "metadata": {},
   "outputs": [],
   "source": [
    "res_best_all.groupby([\"probe\", \"compressor\"])[[\"CR\", \"cspeed_xrt\", \"dspeed10s_xrt\"]].std().round(2)"
   ]
  },
  {
   "cell_type": "markdown",
   "id": "f57fc9f9",
   "metadata": {},
   "source": [
    "## Delta filter and preprocessing"
   ]
  },
  {
   "cell_type": "code",
   "execution_count": null,
   "id": "3ac684ce",
   "metadata": {},
   "outputs": [],
   "source": [
    "res_best_delta = res_best_all.copy()\n",
    "res_best_delta.loc[:, \"delta\"] = \"no\"\n",
    "\n",
    "res_best_pre = res_best_all.copy()\n",
    "res_best_pre.loc[:, \"preprocessing\"] = \"no\"\n",
    "\n",
    "res_delta_all = pd.concat([res_best_delta, res_delta])\n",
    "res_pre_all = pd.concat([res_best_pre, res_pre])"
   ]
  },
  {
   "cell_type": "code",
   "execution_count": null,
   "id": "1dbb113e",
   "metadata": {},
   "outputs": [],
   "source": [
    "np.unique(res_pre_np1.preprocessing)"
   ]
  },
  {
   "cell_type": "code",
   "execution_count": null,
   "id": "a38bf501",
   "metadata": {},
   "outputs": [],
   "source": [
    "res_delta_np1 = res_delta_all.query(\"probe == 'NP1'\")\n",
    "res_delta_np2 = res_delta_all.query(\"probe == 'NP2'\")\n",
    "\n",
    "res_pre_np1 = res_pre_all.query(\"probe == 'NP1'\")\n",
    "res_pre_np2 = res_pre_all.query(\"probe == 'NP2'\")"
   ]
  },
  {
   "cell_type": "code",
   "execution_count": null,
   "id": "deeeea11",
   "metadata": {},
   "outputs": [],
   "source": [
    "fig_7, axs = plt.subplots(ncols=2, nrows=2, figsize=figsize_multi_2rows)\n",
    "\n",
    "order = [\"blosc-zstd\", \"lzma\", \"flac\", \"wavpack\"]\n",
    "delta_order = [\"no\", \"1d\", \"2d-time\", \"2d-space\", \"2d-time-space\"]\n",
    "\n",
    "first_palette = \"Set1\"\n",
    "second_palette = \"Set2\"\n",
    "\n",
    "sns.boxplot(data=res_delta_np1, x=\"compressor\", \n",
    "            y=\"CR\", hue=\"delta\", ax=axs[0, 0], hue_order=delta_order,\n",
    "            order=order,\n",
    "            palette=first_palette)\n",
    "\n",
    "sns.boxplot(data=res_delta_np2, x=\"compressor\", \n",
    "            y=\"CR\", hue=\"delta\", ax=axs[0, 1], hue_order=delta_order,\n",
    "            order=order,\n",
    "            palette=first_palette)\n",
    "\n",
    "pre_order = ['no', 'highpass_300', 'bandpass_300-6000', 'bandpass_300-15000', 'anti-aliasing']\n",
    "\n",
    "sns.boxplot(data=res_pre_np1, x=\"compressor\", \n",
    "            y=\"CR\", hue=\"preprocessing\", ax=axs[1, 0], hue_order=pre_order,\n",
    "            order=order,\n",
    "            palette=second_palette)\n",
    "\n",
    "sns.boxplot(data=res_pre_np2, x=\"compressor\", \n",
    "            y=\"CR\", hue=\"preprocessing\", ax=axs[1, 1], hue_order=pre_order,\n",
    "            order=order,\n",
    "            palette=second_palette)\n",
    "\n",
    "for i, ax in enumerate(axs.flatten()):\n",
    "    ax.set_xlabel(\"\")\n",
    "    ax.set_ylabel(\"\")\n",
    "    ax.set_xticklabels(ax.get_xticklabels(), rotation=45)\n",
    "    if ax.get_legend():\n",
    "        ax.get_legend().remove()\n",
    "\n",
    "axs[0, 0].set_ylabel(\"Compression Ratio\")\n",
    "axs[1, 0].set_ylabel(\"Compression Ratio\")\n",
    "\n",
    "axs[0, 0].set_title(\"NP1\", fontsize=25)\n",
    "axs[0, 1].set_title(\"NP2\", fontsize=25)\n",
    "axs[1, 0].set_xlabel(\"Compressor\")\n",
    "axs[1, 1].set_xlabel(\"Compressor\")\n",
    "\n",
    "\n",
    "h, l = axs[0, 0].get_legend_handles_labels()\n",
    "labels_short = [\"no\", \"1d\", \"2dT\", \"2dS\", \"2dTS\"]\n",
    "axs[0, 1].legend(h, labels_short, ncol=1, fontsize=10)\n",
    "\n",
    "\n",
    "h, l = axs[1, 1].get_legend_handles_labels()\n",
    "labels_short = [\"no\", \"hp_0.3k\", \"bp_0.3-6k\", \"bp_0.3-15k\", \"anti-alias\"]\n",
    "axs[1, 1].legend(h, labels_short, ncol=1, fontsize=10)\n",
    "\n",
    "prettify_axes(axs)\n",
    "\n",
    "_ = fig_7.text(0.02, 0.68, \"Delta\", transform=fig_7.transFigure, rotation=90, fontsize=20)\n",
    "_ = fig_7.text(0.02, 0.18, \"Preprocessing\", transform=fig_7.transFigure, rotation=90, fontsize=20)\n",
    "fig_7.subplots_adjust(wspace=0.3, hspace=0.3)"
   ]
  },
  {
   "cell_type": "code",
   "execution_count": null,
   "id": "1798b363",
   "metadata": {},
   "outputs": [],
   "source": [
    "fig_S4, axs = plt.subplots(ncols=2, nrows=1, figsize=figsize_single)\n",
    "\n",
    "order = [\"blosc-zstd\", \"lzma\", \"flac\", \"wavpack\"]\n",
    "delta_order = [\"no\", \"1d\", \"2d-time\", \"2d-space\", \"2d-time-space\"]\n",
    "\n",
    "sns.boxplot(data=res_delta_np1, x=\"compressor\", \n",
    "            y=\"dspeed10s_xrt\", hue=\"delta\", ax=axs[0], hue_order=delta_order,\n",
    "            order=order,\n",
    "            palette=first_palette)\n",
    "\n",
    "sns.boxplot(data=res_delta_np2, x=\"compressor\", \n",
    "            y=\"dspeed10s_xrt\", hue=\"delta\", ax=axs[1], hue_order=delta_order,\n",
    "            order=order,\n",
    "            palette=first_palette)\n",
    "\n",
    "for i, ax in enumerate(axs.flatten()):\n",
    "    ax.set_xlabel(\"\")\n",
    "    ax.set_ylabel(\"\")\n",
    "    ax.set_xticklabels(ax.get_xticklabels(), rotation=45)\n",
    "    if ax.get_legend():\n",
    "        ax.get_legend().remove()\n",
    "    ax.set_yscale(\"log\")\n",
    "\n",
    "axs[0].set_ylabel(\"Decompression speed (xRT)\")\n",
    "axs[0].set_title(\"NP1\", fontsize=25)\n",
    "axs[1].set_title(\"NP2\", fontsize=25)\n",
    "axs[0].set_xlabel(\"Compressor\")\n",
    "axs[1].set_xlabel(\"Compressor\")\n",
    "\n",
    "h, l = axs[0].get_legend_handles_labels()\n",
    "labels_short = [\"no\", \"1d\", \"2dT\", \"2dS\", \"2dTS\"]\n",
    "axs[1].legend(h, labels_short, ncol=1, fontsize=10)\n",
    "\n",
    "prettify_axes(axs)\n",
    "\n",
    "_ = fig_S4.text(0.02, 0.47, \"Delta\", transform=fig_S4.transFigure, rotation=90, fontsize=20)\n",
    "fig_S4.subplots_adjust(wspace=0.3, bottom=0.2)"
   ]
  },
  {
   "cell_type": "code",
   "execution_count": null,
   "id": "78b0962f",
   "metadata": {},
   "outputs": [],
   "source": [
    "if save_fig:\n",
    "    fig_7.savefig(fig_folder / \"fig7.pdf\")\n",
    "    fig_S4.savefig(fig_folder / \"figS4.pdf\")"
   ]
  },
  {
   "cell_type": "code",
   "execution_count": null,
   "id": "d0ae38bd",
   "metadata": {},
   "outputs": [],
   "source": [
    "delta_gb = res_delta_all.groupby([\"probe\", \"compressor\", \"delta\"])\n",
    "pre_gb = res_pre_all.groupby([\"probe\", \"compressor\", \"preprocessing\"])"
   ]
  },
  {
   "cell_type": "code",
   "execution_count": null,
   "id": "95cbd0cf",
   "metadata": {},
   "outputs": [],
   "source": [
    "delta_gb[[\"session\"]].count()"
   ]
  },
  {
   "cell_type": "code",
   "execution_count": null,
   "id": "f934f214",
   "metadata": {},
   "outputs": [],
   "source": [
    "delta_gb[[\"CR\", \"dspeed10s_xrt\"]]median()..round(2)"
   ]
  },
  {
   "cell_type": "code",
   "execution_count": null,
   "id": "e2179d26",
   "metadata": {},
   "outputs": [],
   "source": [
    "delta_gb[[\"CR\", \"dspeed10s_xrt\"]].std().round(2)"
   ]
  },
  {
   "cell_type": "code",
   "execution_count": null,
   "id": "7767f3e0",
   "metadata": {},
   "outputs": [],
   "source": [
    "pre_gb[[\"session\"]].count()"
   ]
  },
  {
   "cell_type": "code",
   "execution_count": null,
   "id": "e6e32cfe",
   "metadata": {},
   "outputs": [],
   "source": [
    "pre_gb[[\"CR\"]].median().round(2)"
   ]
  },
  {
   "cell_type": "code",
   "execution_count": null,
   "id": "d4eb65ac",
   "metadata": {},
   "outputs": [],
   "source": [
    "pre_gb[[\"CR\"]].std().round(2)"
   ]
  },
  {
   "cell_type": "markdown",
   "id": "23dc8e1a",
   "metadata": {},
   "source": [
    "## CR Vs Decompression speed costs"
   ]
  },
  {
   "cell_type": "code",
   "execution_count": null,
   "id": "af6b6e0d",
   "metadata": {},
   "outputs": [],
   "source": [
    "storage_cost_gb_year = 0.023 * 12\n",
    "compute_cost_hour = 0.23\n",
    "\n",
    "gb_per_h = 80\n",
    "cost_per_cpu_hour = 0.05\n",
    "hours = 1"
   ]
  },
  {
   "cell_type": "code",
   "execution_count": null,
   "id": "18fe3f88",
   "metadata": {},
   "outputs": [],
   "source": [
    "res_wavpack = res_best_all.query(\"compressor == 'wavpack'\")\n",
    "res_blosc_zstd = res_delta.query(\"compressor == 'blosc-zstd' and delta == ''\")"
   ]
  },
  {
   "cell_type": "code",
   "execution_count": null,
   "id": "56d29a1f",
   "metadata": {},
   "outputs": [],
   "source": [
    "fig_costs, axs_costs = plt.subplots(figsize=figsize_single, ncols=2)\n",
    "n_decompressions = np.arange(1000)\n",
    "\n",
    "for probe in [\"NP1\", \"NP2\"]:\n",
    "    print(f\"\\nProbe: {probe}\")\n",
    "    if probe == \"NP1\":\n",
    "        ax = axs_costs[0]\n",
    "    else:\n",
    "        ax = axs_costs[1]\n",
    "\n",
    "    res_wavpack = res_best_all.query(f\"compressor == 'wavpack' and probe == '{probe}'\")\n",
    "    res_blosc_zstd = res_best_all.query(f\"compressor == 'blosc-zstd' and probe == '{probe}'\")\n",
    "    cr_wavpack = res_wavpack[\"CR\"].median().round(2)\n",
    "    cr_blosc = res_blosc_zstd[\"CR\"].median().round(2)\n",
    "    dspeedxrt_wavpack = res_wavpack[\"dspeed10s_xrt\"].median().round(2)\n",
    "    dspeedxrt_blosc = res_blosc_zstd[\"dspeed10s_xrt\"].median().round(2)\n",
    "\n",
    "    print(f\"\\tBlosc-zstd CR: {cr_blosc} - decompression speed: {dspeedxrt_blosc} xRT\")\n",
    "    print(f\"\\tWavPAck CR: {cr_wavpack} - decompression speed: {dspeedxrt_wavpack} xRT\")\n",
    "\n",
    "    blosc_storage_yr = np.round(gb_per_h * hours / cr_blosc, 2)\n",
    "    print(f\"\\tBlosc-zstd compressed size: {blosc_storage_yr} GB\")\n",
    "    wv_storage_yr = np.round(gb_per_h * hours / cr_wavpack, 2)\n",
    "    print(f\"\\tWavPack compressed size: {wv_storage_yr} GB\")\n",
    "\n",
    "    blosc_storage_cost_yr = np.round(blosc_storage_yr * storage_cost_gb_year, 2)\n",
    "    print(f\"\\tBlosc-zstd storage cost: {blosc_storage_cost_yr} $/year\")\n",
    "    wv_storage_cost_yr = np.round(wv_storage_yr * storage_cost_gb_year, 2)\n",
    "    print(f\"\\tWavPack storage cost: {wv_storage_cost_yr} $/year\")\n",
    "\n",
    "    compute_cost_hour = cost_per_cpu_hour\n",
    "    storage_and_compute_cost_wv = hours / dspeedxrt_wavpack * compute_cost_hour * n_decompressions \\\n",
    "        + wv_storage_cost_yr\n",
    "    storage_and_compute_cost_blosc = hours / dspeedxrt_blosc * compute_cost_hour * n_decompressions \\\n",
    "        + blosc_storage_cost_yr\n",
    "\n",
    "    ax.plot(n_decompressions, storage_and_compute_cost_blosc, label=\"blosc-zstd\",\n",
    "            color=compressor_palette[\"blosc-zstd\"], lw=3)\n",
    "    ax.plot(n_decompressions, storage_and_compute_cost_wv, label=\"wavpack\",\n",
    "            color=compressor_palette[\"wavpack\"], lw=3)\n",
    "    ax.set_title(f\"Probe: {probe}\")\n",
    "    max_decomp_job = np.where(storage_and_compute_cost_wv > storage_and_compute_cost_blosc)[0]\n",
    "    if len(max_decomp_job):\n",
    "        print(f\"\\n\\tBreakeven point for {probe} at {n_decompressions[max_decomp_job[0]]} decompressions\")\n",
    "        ax.axvline(n_decompressions[max_decomp_job[0]], color=\"grey\", ls=\"--\", alpha=0.8)\n",
    "        ax.text(n_decompressions[max_decomp_job[0]] + 10, ax.get_ylim()[0] + 0.5, \n",
    "                s=f\"{n_decompressions[max_decomp_job[0]]}\", color=\"grey\", fontsize=15)\n",
    "    else:\n",
    "        print(\"\\n\\tNo breakeven point\")\n",
    "    ax.set_xlabel(\"# decompressions\")\n",
    "    ax.set_ylabel(\"Cost ($)\")\n",
    "    ax.legend()\n",
    "prettify_axes(axs_costs)"
   ]
  }
 ],
 "metadata": {
  "kernelspec": {
   "display_name": "Python 3 (ipykernel)",
   "language": "python",
   "name": "python3"
  },
  "language_info": {
   "codemirror_mode": {
    "name": "ipython",
    "version": 3
   },
   "file_extension": ".py",
   "mimetype": "text/x-python",
   "name": "python",
   "nbconvert_exporter": "python",
   "pygments_lexer": "ipython3",
   "version": "3.9.11"
  },
  "vscode": {
   "interpreter": {
    "hash": "916dbcbb3f70747c44a77c7bcd40155683ae19c65e1c03b4aa3499c5328201f1"
   }
  }
 },
 "nbformat": 4,
 "nbformat_minor": 5
}
