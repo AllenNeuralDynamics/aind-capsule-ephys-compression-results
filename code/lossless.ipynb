{
 "cells": [
  {
   "cell_type": "markdown",
   "id": "476a16e6",
   "metadata": {},
   "source": [
    "# Lossless compression\n",
    "\n",
    "This notebook reproduces the results of the `Lossless compression` results in the paper.\n",
    "\n",
    "We assumes the `ephys-compression/scripts/benchmark-lossless.py` has been run and the `../data/ephys-compression-results/results-lossless/benchmark-lossless.csv\"` is available."
   ]
  },
  {
   "cell_type": "code",
   "execution_count": null,
   "id": "32efd081",
   "metadata": {},
   "outputs": [],
   "source": [
    "import warnings\n",
    "warnings.filterwarnings(\"ignore\")\n",
    "warnings.filterwarnings(\"ignore\", category=DeprecationWarning)"
   ]
  },
  {
   "cell_type": "code",
   "execution_count": null,
   "id": "cc97da1c",
   "metadata": {},
   "outputs": [],
   "source": [
    "import numpy as np\n",
    "from pathlib import Path\n",
    "import matplotlib.pyplot as plt\n",
    "\n",
    "import pandas as pd\n",
    "import seaborn as sns\n",
    "\n",
    "from utils import prettify_axes, stat_test\n",
    "\n",
    "%matplotlib widget"
   ]
  },
  {
   "cell_type": "code",
   "execution_count": null,
   "id": "fdd335aa",
   "metadata": {},
   "outputs": [],
   "source": [
    "figsize_single = (10, 5)\n",
    "figsize_multi_2rows = (10, 9)\n",
    "figsize_multi_3rows = (10, 12)\n",
    "figsize_multi_4rows = (10, 12)"
   ]
  },
  {
   "cell_type": "code",
   "execution_count": null,
   "id": "5155da7e",
   "metadata": {},
   "outputs": [],
   "source": [
    "data_folder = Path(\"../data\")\n",
    "results_folder = Path(\"../results\")\n",
    "\n",
    "save_fig = True\n",
    "fig_folder = results_folder / \"figures\"\n",
    "fig_folder.mkdir(exist_ok=True, parents=True)\n",
    "\n",
    "results_lossless_folder = data_folder / \"ephys-compression-results\" / \"results-lossless\""
   ]
  },
  {
   "cell_type": "code",
   "execution_count": null,
   "id": "95d54b34",
   "metadata": {},
   "outputs": [],
   "source": [
    "res = pd.read_csv(results_lossless_folder / \"benchmark-lossless.csv\", index_col=False)\n",
    "res_delta = pd.read_csv(results_lossless_folder / \"benchmark-lossless-delta.csv\", index_col=False)\n",
    "res_pre = pd.read_csv(results_lossless_folder / \"benchmark-lossless-preprocessing.csv\", index_col=False)"
   ]
  },
  {
   "cell_type": "code",
   "execution_count": null,
   "id": "24a496a2",
   "metadata": {},
   "outputs": [],
   "source": [
    "probe_names = {\"Neuropixels1.0\": \"NP1\",\n",
    "               \"Neuropixels2.0\": \"NP2\"}\n",
    "for probe, probe_name in probe_names.items():\n",
    "    res.loc[res.query(f\"probe == '{probe}'\").index, \"probe\"] = probe_name\n",
    "    res_delta.loc[res_delta.query(f\"probe == '{probe}'\").index, \"probe\"] = probe_name\n",
    "    res_pre.loc[res_pre.query(f\"probe == '{probe}'\").index, \"probe\"] = probe_name"
   ]
  },
  {
   "cell_type": "code",
   "execution_count": null,
   "id": "df04069c",
   "metadata": {},
   "outputs": [],
   "source": [
    "# color palettes\n",
    "cmap = plt.get_cmap(\"Paired\")\n",
    "compressor_palette = {}\n",
    "ctypes = [\"blosc\", \"numcodecs\", \"audio\"]\n",
    "num_compressors = len(np.unique(res.compressor))\n",
    "i = 0\n",
    "for ctype in ctypes:\n",
    "    res_ctype = res.query(f\"compressor_type == '{ctype}'\")\n",
    "    for comp in np.unique(res_ctype.sort_values(\"compressor\").compressor):\n",
    "        compressor_palette[comp]  = cmap(i / num_compressors)\n",
    "        i += 1\n",
    "compressor_palette_dark = compressor_palette.copy()\n",
    "darker = 0.2\n",
    "\n",
    "for comp, color in compressor_palette.items():\n",
    "    col_dark = (max(color[0] - darker, 0), max(color[1] - darker, 0), max(color[2] - darker, 0), 0.8)\n",
    "    compressor_palette_dark[comp] = col_dark\n",
    "\n",
    "standard_palette = \"Greys\""
   ]
  },
  {
   "cell_type": "code",
   "execution_count": null,
   "id": "db92573c",
   "metadata": {},
   "outputs": [],
   "source": [
    "test_columns=[\"CR\", \"cspeed_xrt\", \"dspeed10s_xrt\"]"
   ]
  },
  {
   "cell_type": "markdown",
   "id": "8fafc320",
   "metadata": {},
   "source": [
    "## LSB correction"
   ]
  },
  {
   "cell_type": "code",
   "execution_count": null,
   "id": "2502436d",
   "metadata": {},
   "outputs": [],
   "source": [
    "res_aind = res.query(\"dataset != 'ibl-np1'\")"
   ]
  },
  {
   "cell_type": "code",
   "execution_count": null,
   "id": "e707a6f1",
   "metadata": {},
   "outputs": [],
   "source": [
    "rest_lsb = stat_test(res_aind, column_group_by=\"lsb\", \n",
    "                     test_columns=test_columns, verbose=True)"
   ]
  },
  {
   "cell_type": "code",
   "execution_count": null,
   "id": "2ef4b527",
   "metadata": {},
   "outputs": [],
   "source": [
    "# select LSB = True\n",
    "res_lsb = res.query(\"lsb != 'false'\")"
   ]
  },
  {
   "cell_type": "code",
   "execution_count": null,
   "id": "7c69c242",
   "metadata": {},
   "outputs": [],
   "source": [
    "rest_chunk = stat_test(res_lsb, column_group_by=\"chunk_duration\", \n",
    "                       test_columns=test_columns, verbose=True)"
   ]
  },
  {
   "cell_type": "markdown",
   "id": "2c14a988",
   "metadata": {},
   "source": [
    "## Chunk size"
   ]
  },
  {
   "cell_type": "code",
   "execution_count": null,
   "id": "f687aa75",
   "metadata": {},
   "outputs": [],
   "source": [
    "res_chunk = res_lsb.query(\"chunk_duration == '1s'\")"
   ]
  },
  {
   "cell_type": "code",
   "execution_count": null,
   "id": "72d3f98c",
   "metadata": {},
   "outputs": [],
   "source": [
    "rest_probe = stat_test(res_chunk, column_group_by=\"probe\", \n",
    "                       test_columns=test_columns, verbose=True)"
   ]
  },
  {
   "cell_type": "markdown",
   "id": "6a0af513",
   "metadata": {},
   "source": [
    "## Probe type"
   ]
  },
  {
   "cell_type": "markdown",
   "id": "429baceb",
   "metadata": {},
   "source": [
    "### Figure 1"
   ]
  },
  {
   "cell_type": "code",
   "execution_count": null,
   "id": "8406577c",
   "metadata": {},
   "outputs": [],
   "source": [
    "fig_1, axs = plt.subplots(ncols=3, nrows=3, figsize=figsize_multi_3rows)\n",
    "\n",
    "sns.boxenplot(data=res_aind, x=\"lsb\", y=\"CR\", ax=axs[0, 0], palette=standard_palette)\n",
    "sns.boxenplot(data=res_aind, x=\"lsb\", y=\"cspeed_xrt\", ax=axs[0, 1], palette=standard_palette)\n",
    "sns.boxenplot(data=res_aind, x=\"lsb\", y=\"dspeed10s_xrt\", ax=axs[0, 2], palette=standard_palette)\n",
    "\n",
    "axs[0, 0].set_xlabel(\"\")\n",
    "axs[0, 2].set_xlabel(\"\")\n",
    "axs[0, 1].set_xlabel(\"LSB correction\")\n",
    "\n",
    "axs[0, 0].set_xticklabels([\"off\", \"on\"])\n",
    "axs[0, 1].set_xticklabels([\"off\", \"on\"])\n",
    "axs[0, 2].set_xticklabels([\"off\", \"on\"])\n",
    "\n",
    "axs[0, 0].set_ylabel(\"Compression Ratio\")\n",
    "axs[0, 1].set_ylabel(\"Compression speed (xRT)\")\n",
    "axs[0, 2].set_ylabel(\"Decompression speed (xRT)\")\n",
    "\n",
    "\n",
    "chunk_order = [\"0.1s\", \"1s\", \"10s\"]\n",
    "\n",
    "sns.boxenplot(data=res_lsb, x=\"chunk_duration\", y=\"CR\", ax=axs[1, 0], palette=standard_palette,\n",
    "              order=chunk_order)\n",
    "sns.boxenplot(data=res_lsb, x=\"chunk_duration\", y=\"cspeed_xrt\", ax=axs[1, 1], palette=standard_palette,\n",
    "              order=chunk_order)\n",
    "sns.boxenplot(data=res_lsb, x=\"chunk_duration\", y=\"dspeed10s_xrt\", ax=axs[1, 2], palette=standard_palette,\n",
    "              order=chunk_order)\n",
    "\n",
    "axs[1, 0].set_xlabel(\"\")\n",
    "axs[1, 1].set_xlabel(\"Chunk duration (s)\")\n",
    "axs[1, 2].set_xlabel(\"\")\n",
    "\n",
    "axs[1, 0].set_xticklabels([\"0.1\", \"1\", \"10\"])\n",
    "axs[1, 1].set_xticklabels([\"0.1\", \"1\", \"10\"])\n",
    "axs[1, 2].set_xticklabels([\"0.1\", \"1\", \"10\"])\n",
    "\n",
    "axs[1, 0].set_ylabel(\"Compression Ratio\")\n",
    "axs[1, 1].set_ylabel(\"Compression speed (xRT)\")\n",
    "axs[1, 2].set_ylabel(\"Decompression speed (xRT)\")\n",
    "\n",
    "probe_order = [\"NP1\", \"NP2\"]\n",
    "\n",
    "\n",
    "sns.boxenplot(data=res_chunk, x=\"probe\", y=\"CR\", ax=axs[2, 0], palette=standard_palette,\n",
    "              order=probe_order)\n",
    "sns.boxenplot(data=res_chunk, x=\"probe\", y=\"cspeed_xrt\", ax=axs[2, 1], palette=standard_palette,\n",
    "              order=probe_order)\n",
    "sns.boxenplot(data=res_chunk, x=\"probe\", y=\"dspeed10s_xrt\", ax=axs[2, 2], palette=standard_palette,\n",
    "              order=probe_order)\n",
    "\n",
    "axs[2, 0].set_xlabel(\"\")\n",
    "axs[2, 1].set_xlabel(\"Probe type\")\n",
    "axs[2, 2].set_xlabel(\"\")\n",
    "\n",
    "axs[2, 0].set_xticklabels([\"NP1\", \"NP2\"])\n",
    "axs[2, 1].set_xticklabels([\"NP1\", \"NP2\"])\n",
    "axs[2, 2].set_xticklabels([\"NP1\", \"NP2\"])\n",
    "\n",
    "axs[2, 0].set_ylabel(\"Compression Ratio\")\n",
    "axs[2, 1].set_ylabel(\"Compression speed (xRT)\")\n",
    "axs[2, 2].set_ylabel(\"Decompression speed (xRT)\")\n",
    "\n",
    "fig_1.subplots_adjust(wspace=0.5, hspace=0.3)\n",
    "prettify_axes(axs, label_fs=12)"
   ]
  },
  {
   "cell_type": "code",
   "execution_count": null,
   "id": "563a110d",
   "metadata": {},
   "outputs": [],
   "source": [
    "if save_fig:\n",
    "    fig_1.savefig(fig_folder / \"fig1.pdf\")"
   ]
  },
  {
   "cell_type": "markdown",
   "id": "74145802",
   "metadata": {},
   "source": [
    "## General compressors \n",
    "\n",
    "We start by comparing compression options readily available via the Blosc meta-compressor in ZARR"
   ]
  },
  {
   "cell_type": "code",
   "execution_count": null,
   "id": "71ec46b2",
   "metadata": {},
   "outputs": [],
   "source": [
    "res_zarr = res_chunk.query(f\"compressor_type != 'audio'\")"
   ]
  },
  {
   "cell_type": "code",
   "execution_count": null,
   "id": "daa616f8",
   "metadata": {},
   "outputs": [],
   "source": [
    "res_zarr_np1 = res_zarr.query(\"probe == 'NP1'\")\n",
    "res_zarr_np2 = res_zarr.query(\"probe == 'NP2'\")"
   ]
  },
  {
   "cell_type": "code",
   "execution_count": null,
   "id": "1cdf33e6",
   "metadata": {},
   "outputs": [],
   "source": [
    "fig_2, axs = plt.subplots(ncols=3, nrows=2, figsize=figsize_multi_2rows)\n",
    "\n",
    "order = sorted(np.unique(res_zarr_np1.compressor))\n",
    "\n",
    "sns.boxenplot(data=res_zarr_np1, x=\"compressor\", y=\"CR\", ax=axs[0, 0], order=order,\n",
    "              palette=compressor_palette)\n",
    "sns.boxenplot(data=res_zarr_np1, x=\"compressor\", y=\"cspeed_xrt\", ax=axs[0, 1], order=order,\n",
    "              palette=compressor_palette)\n",
    "sns.boxenplot(data=res_zarr_np1, x=\"compressor\", y=\"dspeed10s_xrt\", ax=axs[0, 2], order=order,\n",
    "              palette=compressor_palette)\n",
    "\n",
    "axs[0, 0].set_xlabel(\"\")\n",
    "axs[0, 1].set_xlabel(\"\")\n",
    "axs[0, 2].set_xlabel(\"\")\n",
    "\n",
    "axs[0, 0].set_ylabel(\"Compression Ratio\")\n",
    "axs[0, 1].set_ylabel(\"Compression speed (xRT)\")\n",
    "axs[0, 2].set_ylabel(\"Decompression speed (xRT)\")\n",
    "\n",
    "axs[0, 0].set_xticklabels(axs[0, 0].get_xticklabels(), rotation=90)\n",
    "axs[0, 1].set_xticklabels(axs[0, 1].get_xticklabels(), rotation=90)\n",
    "axs[0, 2].set_xticklabels(axs[0, 2].get_xticklabels(), rotation=90)\n",
    "\n",
    "sns.boxenplot(data=res_zarr_np2, x=\"compressor\", y=\"CR\", ax=axs[1, 0], order=order,\n",
    "              palette=compressor_palette)\n",
    "sns.boxenplot(data=res_zarr_np2, x=\"compressor\", y=\"cspeed_xrt\", ax=axs[1, 1], order=order,\n",
    "              palette=compressor_palette)\n",
    "sns.boxenplot(data=res_zarr_np2, x=\"compressor\", y=\"dspeed10s_xrt\", ax=axs[1, 2], order=order,\n",
    "              palette=compressor_palette)\n",
    "\n",
    "axs[1, 0].set_xlabel(\"\")\n",
    "axs[1, 1].set_xlabel(\"Compressor\")\n",
    "axs[1, 2].set_xlabel(\"\")\n",
    "\n",
    "axs[1, 0].set_ylabel(\"Compression Ratio\")\n",
    "axs[1, 1].set_ylabel(\"Compression speed (xRT)\")\n",
    "axs[1, 2].set_ylabel(\"Decompression speed (xRT)\")\n",
    "\n",
    "axs[1, 0].set_xticklabels(axs[1, 0].get_xticklabels(), rotation=90)\n",
    "axs[1, 1].set_xticklabels(axs[1, 1].get_xticklabels(), rotation=90)\n",
    "axs[1, 2].set_xticklabels(axs[1, 2].get_xticklabels(), rotation=90)\n",
    "\n",
    "axs[0, 1].set_title(\"NP1\", fontsize=20)\n",
    "axs[1, 1].set_title(\"NP2\", fontsize=20)\n",
    "\n",
    "prettify_axes(axs, label_fs=13)\n",
    "fig_2.subplots_adjust(wspace=0.5, hspace=0.5, bottom=0.15)"
   ]
  },
  {
   "cell_type": "code",
   "execution_count": null,
   "id": "c898bf91",
   "metadata": {},
   "outputs": [],
   "source": [
    "display(res_zarr.groupby([\"probe\", \"compressor\"])[\"session\"].count())"
   ]
  },
  {
   "cell_type": "code",
   "execution_count": null,
   "id": "acbcb1cb",
   "metadata": {},
   "outputs": [],
   "source": [
    "res_zarr.groupby([\"probe\", \"compressor\"]).median()[[\"CR\", \"cspeed_xrt\", \"dspeed10s_xrt\"]].round(2)"
   ]
  },
  {
   "cell_type": "code",
   "execution_count": null,
   "id": "680e1321",
   "metadata": {},
   "outputs": [],
   "source": [
    "res_zarr.groupby([\"probe\", \"compressor\"]).std()[[\"CR\", \"cspeed_xrt\", \"dspeed10s_xrt\"]].round(2)"
   ]
  },
  {
   "cell_type": "code",
   "execution_count": null,
   "id": "f4558d4a",
   "metadata": {},
   "outputs": [],
   "source": [
    "if save_fig:\n",
    "    fig_2.savefig(fig_folder / \"fig2.pdf\")"
   ]
  },
  {
   "cell_type": "markdown",
   "id": "538ed0c9",
   "metadata": {},
   "source": [
    "## Shuffling"
   ]
  },
  {
   "cell_type": "code",
   "execution_count": null,
   "id": "d661de9c",
   "metadata": {},
   "outputs": [],
   "source": [
    "color = \"Greys\"\n",
    "shuffle_order = [\"no\", \"byte\", \"bit\"]\n",
    "\n",
    "fig_3, axs = plt.subplots(ncols=3, nrows=4, figsize=figsize_multi_4rows)\n",
    "res_blosc = res_zarr_np1.query(\"compressor_type == 'blosc'\")\n",
    "sns.boxenplot(data=res_blosc, x=\"compressor\", y=\"CR\", hue=\"shuffle\", ax=axs[0, 0],\n",
    "              hue_order=shuffle_order, palette=standard_palette)\n",
    "sns.boxenplot(data=res_blosc, x=\"compressor\", y=\"cspeed_xrt\", hue=\"shuffle\", ax=axs[0, 1],\n",
    "              hue_order=shuffle_order, palette=standard_palette)\n",
    "sns.boxenplot(data=res_blosc, x=\"compressor\", y=\"dspeed10s_xrt\", hue=\"shuffle\", ax=axs[0, 2],\n",
    "              hue_order=shuffle_order, palette=standard_palette)\n",
    "\n",
    "res_nc = res_zarr_np1.query(\"compressor_type == 'numcodecs'\")\n",
    "sns.boxenplot(data=res_nc, x=\"compressor\", y=\"CR\", hue=\"shuffle\", ax=axs[1, 0],\n",
    "              hue_order=shuffle_order, palette=standard_palette)\n",
    "sns.boxenplot(data=res_nc, x=\"compressor\", y=\"cspeed_xrt\", hue=\"shuffle\", ax=axs[1, 1],\n",
    "              hue_order=shuffle_order, palette=standard_palette)\n",
    "sns.boxenplot(data=res_nc, x=\"compressor\", y=\"dspeed10s_xrt\", hue=\"shuffle\", ax=axs[1, 2],\n",
    "              hue_order=shuffle_order, palette=standard_palette)\n",
    "\n",
    "res_blosc = res_zarr_np2.query(\"compressor_type == 'blosc'\")\n",
    "sns.boxenplot(data=res_blosc, x=\"compressor\", y=\"CR\", hue=\"shuffle\", ax=axs[2, 0],\n",
    "              hue_order=shuffle_order, palette=standard_palette)\n",
    "sns.boxenplot(data=res_blosc, x=\"compressor\", y=\"cspeed_xrt\", hue=\"shuffle\", ax=axs[2, 1],\n",
    "              hue_order=shuffle_order, palette=standard_palette)\n",
    "sns.boxenplot(data=res_blosc, x=\"compressor\", y=\"dspeed10s_xrt\", hue=\"shuffle\", ax=axs[2, 2],\n",
    "              hue_order=shuffle_order, palette=standard_palette)\n",
    "\n",
    "res_nc = res_zarr_np2.query(\"compressor_type == 'numcodecs'\")\n",
    "sns.boxenplot(data=res_nc, x=\"compressor\", y=\"CR\", hue=\"shuffle\", ax=axs[3, 0],\n",
    "              hue_order=shuffle_order, palette=standard_palette)\n",
    "sns.boxenplot(data=res_nc, x=\"compressor\", y=\"cspeed_xrt\", hue=\"shuffle\", ax=axs[3, 1],\n",
    "              hue_order=shuffle_order, palette=standard_palette)\n",
    "sns.boxenplot(data=res_nc, x=\"compressor\", y=\"dspeed10s_xrt\", hue=\"shuffle\", ax=axs[3, 2],\n",
    "              hue_order=shuffle_order, palette=standard_palette)\n",
    "\n",
    "\n",
    "for i, ax in enumerate(axs.flatten()):\n",
    "    ax.set_xlabel(\"\")\n",
    "    ax.set_ylabel(\"\")\n",
    "    ax.set_xticklabels(ax.get_xticklabels(), rotation=45)\n",
    "    if i != 1:\n",
    "        ax.get_legend().remove()\n",
    "    if i % 3 == 0:\n",
    "        ax.set_ylabel(\"Compression Ratio\")\n",
    "    if i % 3 == 1:\n",
    "        ax.set_ylabel(\"Comp. speed (xRT)\")\n",
    "    if i % 3 == 2:\n",
    "        ax.set_ylabel(\"Decomp. speed (xRT)\")\n",
    "\n",
    "\n",
    "axs[3, 1].set_xlabel(\"Compressor\")\n",
    "axs[0, 1].set_title(\"NP1\", fontsize=20)\n",
    "axs[2, 1].set_title(\"NP2\", fontsize=20)\n",
    "        \n",
    "prettify_axes(axs, label_fs=13)\n",
    "fig_3.subplots_adjust(wspace=0.5, hspace=0.5)"
   ]
  },
  {
   "cell_type": "code",
   "execution_count": null,
   "id": "31045447",
   "metadata": {},
   "outputs": [],
   "source": [
    "display(res_blosc.groupby([\"probe\", \"compressor\", \"shuffle\"])[\"session\"].count())\n",
    "display(res_nc.groupby([\"probe\", \"compressor\", \"shuffle\"])[\"session\"].count())"
   ]
  },
  {
   "cell_type": "code",
   "execution_count": null,
   "id": "caf27e99",
   "metadata": {},
   "outputs": [],
   "source": [
    "if save_fig:\n",
    "    fig_3.savefig(fig_folder / \"fig3.pdf\")    "
   ]
  },
  {
   "cell_type": "markdown",
   "id": "428eb0ea",
   "metadata": {},
   "source": [
    "## Compression level"
   ]
  },
  {
   "cell_type": "code",
   "execution_count": null,
   "id": "63622387",
   "metadata": {},
   "outputs": [],
   "source": [
    "color = \"Greys\"\n",
    "\n",
    "level_order = [\"low\", \"medium\", \"high\"]\n",
    "fig_4, axs = plt.subplots(ncols=3, nrows=4, figsize=figsize_multi_4rows)\n",
    "res_blosc = res_zarr_np1.query(\"compressor_type == 'blosc'\")\n",
    "sns.boxenplot(data=res_blosc, x=\"compressor\", y=\"CR\", hue=\"level\", ax=axs[0, 0],\n",
    "              hue_order=level_order, palette=standard_palette)\n",
    "sns.boxenplot(data=res_blosc, x=\"compressor\", y=\"cspeed_xrt\", hue=\"level\", ax=axs[0, 1],\n",
    "              hue_order=level_order, palette=standard_palette)\n",
    "sns.boxenplot(data=res_blosc, x=\"compressor\", y=\"dspeed10s_xrt\", hue=\"level\", ax=axs[0, 2],\n",
    "              hue_order=level_order, palette=standard_palette)\n",
    "\n",
    "res_nc = res_zarr_np1.query(\"compressor_type == 'numcodecs'\")\n",
    "sns.boxenplot(data=res_nc, x=\"compressor\", y=\"CR\", hue=\"level\", ax=axs[1, 0],\n",
    "              hue_order=level_order, palette=standard_palette)\n",
    "sns.boxenplot(data=res_nc, x=\"compressor\", y=\"cspeed_xrt\", hue=\"level\", ax=axs[1, 1],\n",
    "              hue_order=level_order, palette=standard_palette)\n",
    "sns.boxenplot(data=res_nc, x=\"compressor\", y=\"dspeed10s_xrt\", hue=\"level\", ax=axs[1, 2],\n",
    "              hue_order=level_order, palette=standard_palette)\n",
    "\n",
    "res_blosc = res_zarr_np2.query(\"compressor_type == 'blosc'\")\n",
    "sns.boxenplot(data=res_blosc, x=\"compressor\", y=\"CR\", hue=\"level\", ax=axs[2, 0],\n",
    "              hue_order=level_order, palette=standard_palette)\n",
    "sns.boxenplot(data=res_blosc, x=\"compressor\", y=\"cspeed_xrt\", hue=\"level\", ax=axs[2, 1],\n",
    "              hue_order=level_order, palette=standard_palette)\n",
    "sns.boxenplot(data=res_blosc, x=\"compressor\", y=\"dspeed10s_xrt\", hue=\"level\", ax=axs[2, 2],\n",
    "              hue_order=level_order, palette=standard_palette)\n",
    "\n",
    "res_nc = res_zarr_np2.query(\"compressor_type == 'numcodecs'\")\n",
    "sns.boxenplot(data=res_nc, x=\"compressor\", y=\"CR\", hue=\"level\", ax=axs[3, 0],\n",
    "              hue_order=level_order, palette=standard_palette)\n",
    "sns.boxenplot(data=res_nc, x=\"compressor\", y=\"cspeed_xrt\", hue=\"level\", ax=axs[3, 1],\n",
    "              hue_order=level_order, palette=standard_palette)\n",
    "sns.boxenplot(data=res_nc, x=\"compressor\", y=\"dspeed10s_xrt\", hue=\"level\", ax=axs[3, 2],\n",
    "              hue_order=level_order, palette=standard_palette)\n",
    "\n",
    "\n",
    "for i, ax in enumerate(axs.flatten()):\n",
    "    ax.set_xlabel(\"\")\n",
    "    ax.set_ylabel(\"\")\n",
    "    ax.set_xticklabels(ax.get_xticklabels(), rotation=45)\n",
    "    if i != 1:\n",
    "        ax.get_legend().remove()\n",
    "    if i % 3 == 0:\n",
    "        ax.set_ylabel(\"Compression Ratio\")\n",
    "    if i % 3 == 1:\n",
    "        ax.set_ylabel(\"Comp. speed (xRT)\")\n",
    "    if i % 3 == 2:\n",
    "        ax.set_ylabel(\"Decomp. speed (xRT)\")\n",
    "\n",
    "\n",
    "axs[3, 1].set_xlabel(\"Compressor\")\n",
    "axs[0, 1].set_title(\"NP1\", fontsize=20)\n",
    "axs[2, 1].set_title(\"NP2\", fontsize=20)\n",
    "        \n",
    "prettify_axes(axs, label_fs=13)\n",
    "fig_4.subplots_adjust(wspace=0.5, hspace=0.5)"
   ]
  },
  {
   "cell_type": "code",
   "execution_count": null,
   "id": "d4e06f13",
   "metadata": {},
   "outputs": [],
   "source": [
    "display(res_blosc.groupby([\"probe\", \"compressor\", \"level\"])[\"session\"].count())\n",
    "display(res_nc.groupby([\"probe\", \"compressor\", \"level\"])[\"session\"].count())"
   ]
  },
  {
   "cell_type": "code",
   "execution_count": null,
   "id": "a6fb9d70",
   "metadata": {},
   "outputs": [],
   "source": [
    "if save_fig:\n",
    "    fig_4.savefig(fig_folder / \"fig4.pdf\")"
   ]
  },
  {
   "cell_type": "code",
   "execution_count": null,
   "id": "a23b28d9",
   "metadata": {},
   "outputs": [],
   "source": [
    "fig_s1, ax = plt.subplots(figsize=figsize_single)\n",
    "\n",
    "res_zlib = res_chunk.query(\"compressor == 'blosc-zlib'\")\n",
    "\n",
    "sns.boxplot(data=res_zlib, x=\"level\", y=\"CR\", hue=\"shuffle\", ax=ax, palette=standard_palette)\n",
    "\n",
    "ax.set_xlabel(\"Compression Level\")\n",
    "ax.set_ylabel(\"Compression Ratio\")\n",
    "prettify_axes(ax)"
   ]
  },
  {
   "cell_type": "code",
   "execution_count": null,
   "id": "d07bae9b",
   "metadata": {},
   "outputs": [],
   "source": [
    "display(res_zlib.groupby([\"level\", \"shuffle\"])[\"session\"].count())"
   ]
  },
  {
   "cell_type": "code",
   "execution_count": null,
   "id": "89ddfa0c",
   "metadata": {},
   "outputs": [],
   "source": [
    "if save_fig:\n",
    "    fig_s1.savefig(fig_folder / \"figS1.pdf\")"
   ]
  },
  {
   "cell_type": "code",
   "execution_count": null,
   "id": "ab70a45a",
   "metadata": {},
   "outputs": [],
   "source": [
    "g_blosc_np1 = sns.relplot(data=res_zarr_np1.query(\"compressor_type == 'blosc'\"), \n",
    "                          x=\"CR\", y=\"dspeed10s_xrt\", hue=\"compressor\", \n",
    "                          style=\"shuffle\", size=\"level\", size_order=[\"high\", \"medium\", \"low\"],\n",
    "                          palette=compressor_palette)\n",
    "fig_S2_A = g_blosc_np1.figure\n",
    "ax = g_blosc_np1.ax\n",
    "ax.set_xlabel(\"Compression Ratio\")\n",
    "ax.set_ylabel(\"Decompression speed (xRT)\")\n",
    "prettify_axes([ax])\n",
    "\n",
    "g_blosc_np2 = sns.relplot(data=res_zarr_np2.query(\"compressor_type == 'blosc'\"), \n",
    "                          x=\"CR\", y=\"dspeed10s_xrt\", hue=\"compressor\", \n",
    "                          style=\"shuffle\", size=\"level\", size_order=[\"high\", \"medium\", \"low\"],\n",
    "                          palette=compressor_palette)\n",
    "fig_S2_B = g_blosc_np2.figure\n",
    "ax = g_blosc_np2.ax\n",
    "ax.set_xlabel(\"Compression Ratio\")\n",
    "ax.set_ylabel(\"Decompression speed (xRT)\")\n",
    "prettify_axes([ax])\n",
    "\n",
    "g_nc_np1 = sns.relplot(data=res_zarr_np1.query(\"compressor_type == 'numcodecs'\"), \n",
    "                       x=\"CR\", y=\"dspeed10s_xrt\", hue=\"compressor\", \n",
    "                       style=\"shuffle\", size=\"level\", size_order=[\"high\", \"medium\", \"low\"],\n",
    "                       palette=compressor_palette)\n",
    "fig_S2_C = g_nc_np1.figure\n",
    "ax = g_nc_np1.ax\n",
    "ax.set_xlabel(\"Compression Ratio\")\n",
    "ax.set_ylabel(\"Decompression speed (xRT)\")\n",
    "prettify_axes([ax])\n",
    "\n",
    "g_nc_np2 = sns.relplot(data=res_zarr_np2.query(\"compressor_type == 'numcodecs'\"), \n",
    "                       x=\"CR\", y=\"dspeed10s_xrt\", hue=\"compressor\", \n",
    "                       style=\"shuffle\", size=\"level\", size_order=[\"high\", \"medium\", \"low\"],\n",
    "                       palette=compressor_palette)\n",
    "fig_S2_D = g_nc_np2.figure\n",
    "ax = g_nc_np2.ax\n",
    "ax.set_xlabel(\"Compression Ratio\")\n",
    "ax.set_ylabel(\"Decompression speed (xRT)\")\n",
    "prettify_axes([ax])"
   ]
  },
  {
   "cell_type": "code",
   "execution_count": null,
   "id": "70e5084d",
   "metadata": {},
   "outputs": [],
   "source": [
    "if save_fig:\n",
    "    fig_S2_A.savefig(fig_folder / \"figS2-A.pdf\")\n",
    "    fig_S2_B.savefig(fig_folder / \"figS2-B.pdf\")\n",
    "    fig_S2_C.savefig(fig_folder / \"figS2-C.pdf\")\n",
    "    fig_s2_D.savefig(fig_folder / \"figS2-D.pdf\")"
   ]
  },
  {
   "cell_type": "code",
   "execution_count": null,
   "id": "631205c5",
   "metadata": {},
   "outputs": [],
   "source": [
    "selected_level = \"high\"\n",
    "res_level = res_zarr.query(f\"level == '{selected_level}'\")"
   ]
  },
  {
   "cell_type": "code",
   "execution_count": null,
   "id": "6fbd08f9",
   "metadata": {},
   "outputs": [],
   "source": [
    "selected_compressors = [\"blosc-zstd\", \"lzma\"]\n",
    "res_best_zstd = res_level.query(f\"compressor == 'blosc-zstd' and shuffle == 'bit'\")\n",
    "res_best_lzma_np1 = res_level.query(f\"compressor == 'lzma' and shuffle == 'no' and probe == 'NP1'\")\n",
    "res_best_lzma_np2 = res_level.query(f\"compressor == 'lzma' and shuffle == 'byte' and probe == 'NP2'\")\n",
    "res_best_zarr = pd.concat([res_best_zstd, res_best_lzma_np1, res_best_lzma_np2])"
   ]
  },
  {
   "cell_type": "markdown",
   "id": "e1696124",
   "metadata": {},
   "source": [
    "## AUDIO compression"
   ]
  },
  {
   "cell_type": "code",
   "execution_count": null,
   "id": "ff6913b9",
   "metadata": {},
   "outputs": [],
   "source": [
    "res_audio = res_chunk.query(\"compressor_type == 'audio'\")"
   ]
  },
  {
   "cell_type": "markdown",
   "id": "6f66ee92",
   "metadata": {},
   "source": [
    "### FLAC: channel block size"
   ]
  },
  {
   "cell_type": "code",
   "execution_count": null,
   "id": "e023213e",
   "metadata": {},
   "outputs": [],
   "source": [
    "res_flac = res_audio.query(\"compressor == 'flac'\")"
   ]
  },
  {
   "cell_type": "code",
   "execution_count": null,
   "id": "be1ed1d3",
   "metadata": {},
   "outputs": [],
   "source": [
    "rest_flac = stat_test(res_flac, column_group_by=\"channel_chunk_size\", \n",
    "                      test_columns=test_columns, verbose=True)"
   ]
  },
  {
   "cell_type": "code",
   "execution_count": null,
   "id": "2e93cb39",
   "metadata": {},
   "outputs": [],
   "source": [
    "fig_S3, axs = plt.subplots(ncols=3, figsize=figsize_single)\n",
    "\n",
    "sns.boxenplot(data=res_flac, x=\"channel_chunk_size\", y=\"CR\", ax=axs[0], palette=standard_palette)\n",
    "sns.boxenplot(data=res_flac, x=\"channel_chunk_size\", y=\"cspeed_xrt\", ax=axs[1], palette=standard_palette)\n",
    "sns.boxenplot(data=res_flac, x=\"channel_chunk_size\", y=\"dspeed10s_xrt\", ax=axs[2], palette=standard_palette)\n",
    "\n",
    "axs[0].set_xlabel(\"\")\n",
    "axs[1].set_xlabel(\"Channel block size\")\n",
    "axs[2].set_xlabel(\"\")\n",
    "\n",
    "axs[0].set_ylabel(\"Compression Ratio\")\n",
    "axs[1].set_ylabel(\"Compression speed (xRT)\")\n",
    "axs[2].set_ylabel(\"Decompression speed (xRT)\")\n",
    "\n",
    "\n",
    "prettify_axes(axs)\n",
    "fig_S3.subplots_adjust(wspace=0.5)"
   ]
  },
  {
   "cell_type": "code",
   "execution_count": null,
   "id": "e9f3f137",
   "metadata": {},
   "outputs": [],
   "source": [
    "if save_fig:\n",
    "    fig_S3.savefig(fig_folder / \"figS3.pdf\")"
   ]
  },
  {
   "cell_type": "code",
   "execution_count": null,
   "id": "2c2a58af",
   "metadata": {},
   "outputs": [],
   "source": [
    "res_wavpack = res_audio.query(\"compressor == 'wavpack'\")\n",
    "res_flac_2 = res_audio.query(\"channel_chunk_size == 2\") # wavpack has chunk_channel_size == -1\n",
    "res_audio_2 = pd.concat([res_flac_2, res_wavpack])"
   ]
  },
  {
   "cell_type": "code",
   "execution_count": null,
   "id": "0fe182d4",
   "metadata": {},
   "outputs": [],
   "source": [
    "res_audio_np1 = res_audio_2.query(\"probe == 'NP1'\")\n",
    "res_audio_np2 = res_audio_2.query(\"probe == 'NP2'\")"
   ]
  },
  {
   "cell_type": "code",
   "execution_count": null,
   "id": "091ab232",
   "metadata": {},
   "outputs": [],
   "source": [
    "fig_5, axs = plt.subplots(ncols=3, nrows=2, figsize=figsize_multi_2rows)\n",
    "\n",
    "\n",
    "sns.boxplot(data=res_audio_np1, x=\"level\", \n",
    "            y=\"CR\", hue=\"compressor\", ax=axs[0, 0], palette=compressor_palette)\n",
    "sns.boxplot(data=res_audio_np1, x=\"level\", \n",
    "            y=\"cspeed_xrt\", hue=\"compressor\", ax=axs[0, 1], palette=compressor_palette)\n",
    "sns.boxplot(data=res_audio_np1, x=\"level\", \n",
    "            y=\"dspeed10s_xrt\", hue=\"compressor\", ax=axs[0, 2], palette=compressor_palette)\n",
    "\n",
    "\n",
    "sns.boxplot(data=res_audio_np2, x=\"level\", y=\"CR\", hue=\"compressor\", ax=axs[1, 0],\n",
    "            palette=compressor_palette)\n",
    "sns.boxplot(data=res_audio_np2, x=\"level\", y=\"cspeed_xrt\", hue=\"compressor\", ax=axs[1, 1],\n",
    "            palette=compressor_palette)\n",
    "sns.boxplot(data=res_audio_np2, x=\"level\", y=\"dspeed10s_xrt\", hue=\"compressor\", ax=axs[1, 2],\n",
    "            palette=compressor_palette)\n",
    "\n",
    "for i, ax in enumerate(axs.flatten()):\n",
    "    ax.set_xlabel(\"\")\n",
    "    ax.set_xticklabels(ax.get_xticklabels(), rotation=45)\n",
    "    if i > 0:\n",
    "        ax.get_legend().remove()\n",
    "    if i % 3 == 0:\n",
    "        ax.set_ylabel(\"Compression Ratio\")\n",
    "    if i % 3 == 1:\n",
    "        ax.set_ylabel(\"Compression speed (xRT)\")\n",
    "    if i % 3 == 2:\n",
    "        ax.set_ylabel(\"Decompression speed (xRT)\")\n",
    "\n",
    "\n",
    "axs[1, 1].set_xlabel(\"Compression Level\")\n",
    "axs[0, 1].set_title(\"NP1\", fontsize=20)\n",
    "axs[1, 1].set_title(\"NP2\", fontsize=20)\n",
    "\n",
    "prettify_axes(axs, label_fs=13)\n",
    "fig_5.subplots_adjust(wspace=0.5, hspace=0.4)"
   ]
  },
  {
   "cell_type": "code",
   "execution_count": null,
   "id": "187358c9",
   "metadata": {},
   "outputs": [],
   "source": [
    "display(res_audio_2.groupby([\"probe\", \"compressor\", \"level\"])[\"session\"].count())"
   ]
  },
  {
   "cell_type": "code",
   "execution_count": null,
   "id": "790aa3e5",
   "metadata": {},
   "outputs": [],
   "source": [
    "res_audio_2.groupby([\"probe\", \"compressor\", \"level\"]).median()[[\"CR\", \"cspeed_xrt\", \"dspeed10s_xrt\"]].round(2)"
   ]
  },
  {
   "cell_type": "code",
   "execution_count": null,
   "id": "1df2332b",
   "metadata": {},
   "outputs": [],
   "source": [
    "res_audio_2.groupby([\"probe\", \"compressor\", \"level\"]).std()[[\"CR\", \"cspeed_xrt\", \"dspeed10s_xrt\"]].round(2)"
   ]
  },
  {
   "cell_type": "code",
   "execution_count": null,
   "id": "9ab107b9",
   "metadata": {},
   "outputs": [],
   "source": [
    "if save_fig:\n",
    "    fig_5.savefig(fig_folder / \"fig5.pdf\")"
   ]
  },
  {
   "cell_type": "markdown",
   "id": "0b45a8ab",
   "metadata": {},
   "source": [
    "## Compare general-purpose and audio codecs"
   ]
  },
  {
   "cell_type": "code",
   "execution_count": null,
   "id": "3e6957c7",
   "metadata": {},
   "outputs": [],
   "source": [
    "selected_level = \"medium\"\n",
    "res_best_audio = res_audio_2.query(f\"level == '{selected_level}'\")"
   ]
  },
  {
   "cell_type": "code",
   "execution_count": null,
   "id": "e1596601",
   "metadata": {},
   "outputs": [],
   "source": [
    "res_best_all = pd.concat([res_best_zarr, res_best_audio])"
   ]
  },
  {
   "cell_type": "code",
   "execution_count": null,
   "id": "f7fc109d",
   "metadata": {},
   "outputs": [],
   "source": [
    "res_best_np1 = res_best_all.query(\"probe == 'NP1'\")\n",
    "res_best_np2 = res_best_all.query(\"probe == 'NP2'\")"
   ]
  },
  {
   "cell_type": "code",
   "execution_count": null,
   "id": "d68670e4",
   "metadata": {},
   "outputs": [],
   "source": [
    "fig_6, axs = plt.subplots(ncols=3, nrows=2, figsize=figsize_multi_2rows)\n",
    "\n",
    "\n",
    "sns.boxplot(data=res_best_np1, x=\"compressor\", \n",
    "            y=\"CR\", ax=axs[0, 0], palette=compressor_palette)\n",
    "sns.stripplot(data=res_best_np1, x=\"compressor\", \n",
    "              y=\"CR\", ax=axs[0, 0], palette=compressor_palette_dark, marker=\"o\", edgecolor=\"k\",\n",
    "              linewidth=0.5)\n",
    "sns.boxplot(data=res_best_np1, x=\"compressor\", \n",
    "            y=\"cspeed_xrt\", ax=axs[0, 1], palette=compressor_palette)\n",
    "sns.stripplot(data=res_best_np1, x=\"compressor\", \n",
    "              y=\"cspeed_xrt\", ax=axs[0, 1], palette=compressor_palette_dark, marker=\"o\", edgecolor=\"k\",\n",
    "              linewidth=0.5)\n",
    "sns.boxplot(data=res_best_np1, x=\"compressor\", \n",
    "            y=\"dspeed10s_xrt\", ax=axs[0, 2], palette=compressor_palette)\n",
    "sns.stripplot(data=res_best_np1, x=\"compressor\", \n",
    "              y=\"dspeed10s_xrt\", ax=axs[0, 2], palette=compressor_palette_dark, marker=\"o\", edgecolor=\"k\",\n",
    "              linewidth=0.5)\n",
    "\n",
    "sns.boxplot(data=res_best_np2, x=\"compressor\", \n",
    "            y=\"CR\", ax=axs[1, 0], palette=compressor_palette)\n",
    "sns.stripplot(data=res_best_np2, x=\"compressor\", \n",
    "              y=\"CR\", ax=axs[1, 0], palette=compressor_palette_dark, marker=\"o\", edgecolor=\"k\",\n",
    "              linewidth=0.5)\n",
    "sns.boxplot(data=res_best_np2, x=\"compressor\", \n",
    "            y=\"cspeed_xrt\", ax=axs[1, 1], palette=compressor_palette)\n",
    "sns.stripplot(data=res_best_np2, x=\"compressor\", \n",
    "              y=\"cspeed_xrt\", ax=axs[1, 1], palette=compressor_palette_dark, marker=\"o\", edgecolor=\"k\",\n",
    "              linewidth=0.5)\n",
    "sns.boxplot(data=res_best_np2, x=\"compressor\", \n",
    "            y=\"dspeed10s_xrt\",  ax=axs[1, 2], palette=compressor_palette)\n",
    "sns.stripplot(data=res_best_np2, x=\"compressor\", \n",
    "              y=\"dspeed10s_xrt\", ax=axs[1, 2], palette=compressor_palette_dark, marker=\"o\", edgecolor=\"k\",\n",
    "              linewidth=0.5)\n",
    "for i, ax in enumerate(axs.flatten()):\n",
    "    ax.set_xlabel(\"\")\n",
    "    ax.set_xticklabels(ax.get_xticklabels(), rotation=45)\n",
    "    if i % 3 == 0:\n",
    "        ax.set_ylabel(\"Compression Ratio\")\n",
    "    if i % 3 == 1:\n",
    "        ax.set_ylabel(\"Compression speed (xRT)\")\n",
    "    if i % 3 == 2:\n",
    "        ax.set_ylabel(\"Decompression speed (xRT)\")\n",
    "\n",
    "axs[0, 1].set_title(\"NP1\", fontsize=25)\n",
    "axs[1, 1].set_title(\"NP2\", fontsize=25)\n",
    "axs[1, 1].set_xlabel(\"Compressor\")\n",
    "\n",
    "axs[0, 2].set_yscale(\"log\")\n",
    "axs[1, 2].set_yscale(\"log\")\n",
    "\n",
    "prettify_axes(axs)\n",
    "\n",
    "fig_6.subplots_adjust(wspace=0.5, hspace=0.3)"
   ]
  },
  {
   "cell_type": "code",
   "execution_count": null,
   "id": "013f08ef",
   "metadata": {},
   "outputs": [],
   "source": [
    "display(res_best_all.groupby([\"probe\", \"compressor\", \"level\"])[\"session\"].count())"
   ]
  },
  {
   "cell_type": "code",
   "execution_count": null,
   "id": "538c1cef",
   "metadata": {},
   "outputs": [],
   "source": [
    "if save_fig:\n",
    "    fig_6.savefig(fig_folder / \"fig6.pdf\")"
   ]
  },
  {
   "cell_type": "code",
   "execution_count": null,
   "id": "b19cfcaa",
   "metadata": {},
   "outputs": [],
   "source": [
    "res_best_all.groupby([\"probe\", \"compressor\"]).median()[[\"CR\", \"cspeed_xrt\", \"dspeed10s_xrt\"]].round(2)"
   ]
  },
  {
   "cell_type": "code",
   "execution_count": null,
   "id": "2af9968f",
   "metadata": {},
   "outputs": [],
   "source": [
    "res_best_all.groupby([\"probe\", \"compressor\"]).std()[[\"CR\", \"cspeed_xrt\", \"dspeed10s_xrt\"]].round(2)"
   ]
  },
  {
   "cell_type": "markdown",
   "id": "5c161029",
   "metadata": {},
   "source": [
    "## Delta filter and preprocessing"
   ]
  },
  {
   "cell_type": "code",
   "execution_count": null,
   "id": "1930f18b",
   "metadata": {},
   "outputs": [],
   "source": [
    "res_best_delta = res_best_all.copy()\n",
    "res_best_delta.loc[:, \"delta\"] = \"no\"\n",
    "\n",
    "res_best_pre = res_best_all.copy()\n",
    "res_best_pre.loc[:, \"preprocessing\"] = \"no\"\n",
    "\n",
    "res_delta_all = pd.concat([res_best_delta, res_delta])\n",
    "res_pre_all = pd.concat([res_best_pre, res_pre])"
   ]
  },
  {
   "cell_type": "code",
   "execution_count": null,
   "id": "c5308cfa",
   "metadata": {},
   "outputs": [],
   "source": [
    "np.unique(res_pre_np1.preprocessing)"
   ]
  },
  {
   "cell_type": "code",
   "execution_count": null,
   "id": "db4d2616",
   "metadata": {},
   "outputs": [],
   "source": [
    "res_delta_np1 = res_delta_all.query(\"probe == 'NP1'\")\n",
    "res_delta_np2 = res_delta_all.query(\"probe == 'NP2'\")\n",
    "\n",
    "res_pre_np1 = res_pre_all.query(\"probe == 'NP1'\")\n",
    "res_pre_np2 = res_pre_all.query(\"probe == 'NP2'\")"
   ]
  },
  {
   "cell_type": "code",
   "execution_count": null,
   "id": "356561c3",
   "metadata": {},
   "outputs": [],
   "source": [
    "fig_7, axs = plt.subplots(ncols=2, nrows=2, figsize=figsize_multi_2rows)\n",
    "\n",
    "order = [\"blosc-zstd\", \"lzma\", \"flac\", \"wavpack\"]\n",
    "delta_order = [\"no\", \"1d\", \"2d-time\", \"2d-space\", \"2d-time-space\"]\n",
    "\n",
    "first_palette = \"Set1\"\n",
    "second_palette = \"Set2\"\n",
    "\n",
    "sns.boxplot(data=res_delta_np1, x=\"compressor\", \n",
    "            y=\"CR\", hue=\"delta\", ax=axs[0, 0], hue_order=delta_order,\n",
    "            order=order,\n",
    "            palette=first_palette)\n",
    "\n",
    "sns.boxplot(data=res_delta_np2, x=\"compressor\", \n",
    "            y=\"CR\", hue=\"delta\", ax=axs[0, 1], hue_order=delta_order,\n",
    "            order=order,\n",
    "            palette=first_palette)\n",
    "\n",
    "pre_order = ['no', 'highpass_300', 'bandpass_300-6000', 'bandpass_300-15000', 'anti-aliasing']\n",
    "\n",
    "sns.boxplot(data=res_pre_np1, x=\"compressor\", \n",
    "            y=\"CR\", hue=\"preprocessing\", ax=axs[1, 0], hue_order=pre_order,\n",
    "            order=order,\n",
    "            palette=second_palette)\n",
    "\n",
    "sns.boxplot(data=res_pre_np2, x=\"compressor\", \n",
    "            y=\"CR\", hue=\"preprocessing\", ax=axs[1, 1], hue_order=pre_order,\n",
    "            order=order,\n",
    "            palette=second_palette)\n",
    "\n",
    "for i, ax in enumerate(axs.flatten()):\n",
    "    ax.set_xlabel(\"\")\n",
    "    ax.set_ylabel(\"\")\n",
    "    ax.set_xticklabels(ax.get_xticklabels(), rotation=45)\n",
    "    if ax.get_legend():\n",
    "        ax.get_legend().remove()\n",
    "\n",
    "axs[0, 0].set_ylabel(\"Compression Ratio\")\n",
    "axs[1, 0].set_ylabel(\"Compression Ratio\")\n",
    "\n",
    "axs[0, 0].set_title(\"NP1\", fontsize=25)\n",
    "axs[0, 1].set_title(\"NP2\", fontsize=25)\n",
    "axs[1, 0].set_xlabel(\"Compressor\")\n",
    "axs[1, 1].set_xlabel(\"Compressor\")\n",
    "\n",
    "\n",
    "h, l = axs[0, 0].get_legend_handles_labels()\n",
    "labels_short = [\"no\", \"1d\", \"2dT\", \"2dS\", \"2dTS\"]\n",
    "axs[0, 1].legend(h, labels_short, ncol=1, fontsize=10)\n",
    "\n",
    "\n",
    "h, l = axs[1, 1].get_legend_handles_labels()\n",
    "labels_short = [\"no\", \"hp_0.3k\", \"bp_0.3-6k\", \"bp_0.3-15k\", \"anti-alias\"]\n",
    "axs[1, 1].legend(h, labels_short, ncol=1, fontsize=10)\n",
    "\n",
    "prettify_axes(axs)\n",
    "\n",
    "_ = fig_7.text(0.02, 0.68, \"Delta\", transform=fig_7.transFigure, rotation=90, fontsize=20)\n",
    "_ = fig_7.text(0.02, 0.18, \"Preprocessing\", transform=fig_7.transFigure, rotation=90, fontsize=20)\n",
    "fig_7.subplots_adjust(wspace=0.3, hspace=0.3)"
   ]
  },
  {
   "cell_type": "code",
   "execution_count": null,
   "id": "4f483f89",
   "metadata": {},
   "outputs": [],
   "source": [
    "fig_S4, axs = plt.subplots(ncols=2, nrows=1, figsize=figsize_single)\n",
    "\n",
    "order = [\"blosc-zstd\", \"lzma\", \"flac\", \"wavpack\"]\n",
    "delta_order = [\"no\", \"1d\", \"2d-time\", \"2d-space\", \"2d-time-space\"]\n",
    "\n",
    "sns.boxplot(data=res_delta_np1, x=\"compressor\", \n",
    "            y=\"dspeed10s_xrt\", hue=\"delta\", ax=axs[0], hue_order=delta_order,\n",
    "            order=order,\n",
    "            palette=first_palette)\n",
    "\n",
    "sns.boxplot(data=res_delta_np2, x=\"compressor\", \n",
    "            y=\"dspeed10s_xrt\", hue=\"delta\", ax=axs[1], hue_order=delta_order,\n",
    "            order=order,\n",
    "            palette=first_palette)\n",
    "\n",
    "for i, ax in enumerate(axs.flatten()):\n",
    "    ax.set_xlabel(\"\")\n",
    "    ax.set_ylabel(\"\")\n",
    "    ax.set_xticklabels(ax.get_xticklabels(), rotation=45)\n",
    "    if ax.get_legend():\n",
    "        ax.get_legend().remove()\n",
    "    ax.set_yscale(\"log\")\n",
    "\n",
    "axs[0].set_ylabel(\"Decompression speed (xRT)\")\n",
    "axs[0].set_title(\"NP1\", fontsize=25)\n",
    "axs[1].set_title(\"NP2\", fontsize=25)\n",
    "axs[0].set_xlabel(\"Compressor\")\n",
    "axs[1].set_xlabel(\"Compressor\")\n",
    "\n",
    "h, l = axs[0].get_legend_handles_labels()\n",
    "labels_short = [\"no\", \"1d\", \"2dT\", \"2dS\", \"2dTS\"]\n",
    "axs[1].legend(h, labels_short, ncol=1, fontsize=10)\n",
    "\n",
    "prettify_axes(axs)\n",
    "\n",
    "_ = fig_S4.text(0.02, 0.47, \"Delta\", transform=fig_S4.transFigure, rotation=90, fontsize=20)\n",
    "fig_S4.subplots_adjust(wspace=0.3, bottom=0.2)"
   ]
  },
  {
   "cell_type": "code",
   "execution_count": null,
   "id": "25419e2c",
   "metadata": {},
   "outputs": [],
   "source": [
    "if save_fig:\n",
    "    fig_7.savefig(fig_folder / \"fig7.pdf\")\n",
    "    fig_S4.savefig(fig_folder / \"figS4.pdf\")"
   ]
  },
  {
   "cell_type": "code",
   "execution_count": null,
   "id": "8aafa6d8",
   "metadata": {},
   "outputs": [],
   "source": [
    "delta_gb = res_delta_all.groupby([\"probe\", \"compressor\", \"delta\"])\n",
    "pre_gb = res_pre_all.groupby([\"probe\", \"compressor\", \"preprocessing\"])"
   ]
  },
  {
   "cell_type": "code",
   "execution_count": null,
   "id": "919d86cc",
   "metadata": {},
   "outputs": [],
   "source": [
    "delta_gb[[\"session\"]].count()"
   ]
  },
  {
   "cell_type": "code",
   "execution_count": null,
   "id": "d4a86643",
   "metadata": {},
   "outputs": [],
   "source": [
    "delta_gb.median()[[\"CR\", \"dspeed10s_xrt\"]].round(2)"
   ]
  },
  {
   "cell_type": "code",
   "execution_count": null,
   "id": "112ab9a1",
   "metadata": {},
   "outputs": [],
   "source": [
    "delta_gb.std()[[\"CR\", \"dspeed10s_xrt\"]].round(2)"
   ]
  },
  {
   "cell_type": "code",
   "execution_count": null,
   "id": "f3c6355c",
   "metadata": {},
   "outputs": [],
   "source": [
    "pre_gb[[\"session\"]].count()"
   ]
  },
  {
   "cell_type": "code",
   "execution_count": null,
   "id": "d3b4b8f9",
   "metadata": {},
   "outputs": [],
   "source": [
    "pre_gb.median()[[\"CR\"]].round(2)"
   ]
  },
  {
   "cell_type": "code",
   "execution_count": null,
   "id": "9b2694be",
   "metadata": {},
   "outputs": [],
   "source": [
    "pre_gb.std()[[\"CR\"]].round(2)"
   ]
  },
  {
   "cell_type": "markdown",
   "id": "8341920e",
   "metadata": {},
   "source": [
    "## CR Vs Decompression speed costs"
   ]
  },
  {
   "cell_type": "code",
   "execution_count": null,
   "id": "c24efa3e",
   "metadata": {},
   "outputs": [],
   "source": [
    "storage_cost_gb_year = 0.023 * 12\n",
    "compute_cost_hour = 0.23\n",
    "\n",
    "gb_per_h = 80\n",
    "cost_per_cpu_hour = 0.05\n",
    "hours = 1"
   ]
  },
  {
   "cell_type": "code",
   "execution_count": null,
   "id": "81781b37",
   "metadata": {},
   "outputs": [],
   "source": [
    "res_wavpack = res_best_all.query(\"compressor == 'wavpack'\")\n",
    "res_blosc_zstd = res_delta.query(\"compressor == 'blosc-zstd' and delta == ''\")"
   ]
  },
  {
   "cell_type": "code",
   "execution_count": null,
   "id": "af747fa1",
   "metadata": {},
   "outputs": [],
   "source": [
    "fig_costs, axs_costs = plt.subplots(figsize=figsize_single, ncols=2)\n",
    "n_decompressions = np.arange(1000)\n",
    "\n",
    "for probe in [\"NP1\", \"NP2\"]:\n",
    "    print(f\"\\nProbe: {probe}\")\n",
    "    if probe == \"NP1\":\n",
    "        ax = axs_costs[0]\n",
    "    else:\n",
    "        ax = axs_costs[1]\n",
    "\n",
    "    res_wavpack = res_best_all.query(f\"compressor == 'wavpack' and probe == '{probe}'\")\n",
    "    res_blosc_zstd = res_best_all.query(f\"compressor == 'blosc-zstd' and probe == '{probe}'\")\n",
    "    cr_wavpack = res_wavpack[\"CR\"].median().round(2)\n",
    "    cr_blosc = res_blosc_zstd[\"CR\"].median().round(2)\n",
    "    dspeedxrt_wavpack = res_wavpack[\"dspeed10s_xrt\"].median().round(2)\n",
    "    dspeedxrt_blosc = res_blosc_zstd[\"dspeed10s_xrt\"].median().round(2)\n",
    "\n",
    "    print(f\"\\tBlosc-zstd CR: {cr_blosc} - decompression speed: {dspeedxrt_blosc} xRT\")\n",
    "    print(f\"\\tWavPAck CR: {cr_wavpack} - decompression speed: {dspeedxrt_wavpack} xRT\")\n",
    "\n",
    "    blosc_storage_yr = np.round(gb_per_h * hours / cr_blosc, 2)\n",
    "    print(f\"\\tBlosc-zstd compressed size: {blosc_storage_yr} GB\")\n",
    "    wv_storage_yr = np.round(gb_per_h * hours / cr_wavpack, 2)\n",
    "    print(f\"\\tWavPack compressed size: {wv_storage_yr} GB\")\n",
    "\n",
    "    blosc_storage_cost_yr = np.round(blosc_storage_yr * storage_cost_gb_year, 2)\n",
    "    print(f\"\\tBlosc-zstd storage cost: {blosc_storage_cost_yr} $/year\")\n",
    "    wv_storage_cost_yr = np.round(wv_storage_yr * storage_cost_gb_year, 2)\n",
    "    print(f\"\\tWavPack storage cost: {wv_storage_cost_yr} $/year\")\n",
    "\n",
    "    compute_cost_hour = cost_per_cpu_hour\n",
    "    storage_and_compute_cost_wv = hours / dspeedxrt_wavpack * compute_cost_hour * n_decompressions \\\n",
    "        + wv_storage_cost_yr\n",
    "    storage_and_compute_cost_blosc = hours / dspeedxrt_blosc * compute_cost_hour * n_decompressions \\\n",
    "        + blosc_storage_cost_yr\n",
    "\n",
    "    ax.plot(n_decompressions, storage_and_compute_cost_blosc, label=\"blosc-zstd\",\n",
    "            color=compressor_palette[\"blosc-zstd\"], lw=3)\n",
    "    ax.plot(n_decompressions, storage_and_compute_cost_wv, label=\"wavpack\",\n",
    "            color=compressor_palette[\"wavpack\"], lw=3)\n",
    "    ax.set_title(f\"Probe: {probe}\")\n",
    "    max_decomp_job = np.where(storage_and_compute_cost_wv > storage_and_compute_cost_blosc)[0]\n",
    "    if len(max_decomp_job):\n",
    "        print(f\"\\n\\tBreakeven point for {probe} at {n_decompressions[max_decomp_job[0]]} decompressions\")\n",
    "        ax.axvline(n_decompressions[max_decomp_job[0]], color=\"grey\", ls=\"--\", alpha=0.8)\n",
    "        ax.text(n_decompressions[max_decomp_job[0]] + 10, ax.get_ylim()[0] + 0.5, \n",
    "                s=f\"{n_decompressions[max_decomp_job[0]]}\", color=\"grey\", fontsize=15)\n",
    "    else:\n",
    "        print(\"\\n\\tNo breakeven point\")\n",
    "    ax.set_xlabel(\"# decompressions\")\n",
    "    ax.set_ylabel(\"Cost ($)\")\n",
    "    ax.legend()\n",
    "prettify_axes(axs_costs)"
   ]
  }
 ],
 "metadata": {
  "kernelspec": {
   "display_name": "Python 3 (ipykernel)",
   "language": "python",
   "name": "python3"
  },
  "language_info": {
   "codemirror_mode": {
    "name": "ipython",
    "version": 3
   },
   "file_extension": ".py",
   "mimetype": "text/x-python",
   "name": "python",
   "nbconvert_exporter": "python",
   "pygments_lexer": "ipython3",
   "version": "3.9.11"
  },
  "vscode": {
   "interpreter": {
    "hash": "916dbcbb3f70747c44a77c7bcd40155683ae19c65e1c03b4aa3499c5328201f1"
   }
  }
 },
 "nbformat": 4,
 "nbformat_minor": 5
}
